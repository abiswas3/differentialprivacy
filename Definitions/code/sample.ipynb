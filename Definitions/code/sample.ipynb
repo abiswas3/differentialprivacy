{
 "cells": [
  {
   "cell_type": "code",
   "execution_count": 1,
   "metadata": {},
   "outputs": [],
   "source": [
    "%matplotlib inline\n",
    "import numpy as np\n",
    "import pandas as pd\n",
    "import matplotlib.pyplot as plt"
   ]
  },
  {
   "cell_type": "code",
   "execution_count": 2,
   "metadata": {},
   "outputs": [],
   "source": [
    "MAX_VAL = 10\n",
    "NUM_TRIALS = 10000"
   ]
  },
  {
   "cell_type": "code",
   "execution_count": 3,
   "metadata": {},
   "outputs": [],
   "source": [
    "def create_population(num_people, max_val):\n",
    "    return np.random.randint(low=0, high=max_val, size=num_people)\n",
    "\n",
    "def get_random_projection(population_sample, output_dimension, random_proj_scale=1):\n",
    "    random_projection = random_proj_scale*np.random.random((len(population_sample), output_dimension))\n",
    "    return random_projection\n",
    "\n",
    "\n",
    "def oracle(random_projection, population_sample):\n",
    "    '''The oracle takes a population of integers and \n",
    "    projects them to some k dimension space. This is just a fake\n",
    "    oracle\n",
    "    '''\n",
    "    return population_sample.T @ random_projection\n",
    "\n",
    "def sum_oracle(population_sample):\n",
    "    \n",
    "    return sum(population_sample)\n",
    "\n",
    "def laplace_mechanism(oracle_output, epsilon, sensitivity):\n",
    "\n",
    "    scale = sensitivity/epsilon\n",
    "    \n",
    "    if isinstance(oracle_output, np.int64) or isinstance(oracle_output, np.float64):\n",
    "        return oracle_output +  np.random.laplace(loc=0.0, scale=scale, size=None)\n",
    "    \n",
    "    z = np.zeros(len(oracle_output))\n",
    "    for i in range(len(oracle_output)):\n",
    "        z[i] = oracle_output[i] + np.random.laplace(loc=0.0, scale=scale, size=None)\n",
    "        \n",
    "    return z \n"
   ]
  },
  {
   "cell_type": "code",
   "execution_count": 4,
   "metadata": {},
   "outputs": [],
   "source": [
    "def get_error(y, y_hat):\n",
    "    \n",
    "    if isinstance(y, np.int64) or isinstance(y, np.float64):\n",
    "        return abs(y - y_hat)\n",
    "\n",
    "    return np.linalg.norm((y - y_hat), ord=np.inf)\n",
    "\n",
    "def bad_event(y, y_hat, sensitivity, epsilon, output_dim, beta):\n",
    "    '''1 if a bad event has occurred 0 otherwise\n",
    "    '''\n",
    "    error = get_error(y, y_hat) \n",
    "    theoretical_bound = np.log(output_dim/beta)*(sensitivity/epsilon)\n",
    "#     print(\"Actual error: {:.2f} Theory Error: {:.2f}\".format(error, theoretical_bound))\n",
    "    return error >= theoretical_bound"
   ]
  },
  {
   "cell_type": "code",
   "execution_count": 8,
   "metadata": {},
   "outputs": [
    {
     "name": "stdout",
     "output_type": "stream",
     "text": [
      "Num trials 100\n",
      "Monte carlo estimate of bad prob: 0.040\n",
      "Expected value: 0.050\n",
      "\n",
      "Num trials 1000\n",
      "Monte carlo estimate of bad prob: 0.045\n",
      "Expected value: 0.050\n",
      "\n",
      "Num trials 10000\n",
      "Monte carlo estimate of bad prob: 0.048\n",
      "Expected value: 0.050\n",
      "\n",
      "Num trials 100000\n",
      "Monte carlo estimate of bad prob: 0.049\n",
      "Expected value: 0.050\n",
      "\n"
     ]
    }
   ],
   "source": [
    "# Experiment: Verifying empirically the tightness of alpha beta accuracy of laplace noise\n",
    "# So there is a monte carlo error in this as well but for large number\n",
    "# of trials theory says monte carlo estimate should be very close\n",
    "# to real probability of error\n",
    "for num_trials in ([100, 1000, 10000, 100000]):\n",
    "    num_people = 1000\n",
    "    max_val = MAX_VAL\n",
    "    X = create_population(num_people, max_val)\n",
    "    k = 5\n",
    "\n",
    "    proj_scale = 1\n",
    "    temp = get_random_projection(X, k, proj_scale)\n",
    "    oracle_output = oracle(temp, X)\n",
    "\n",
    "    epsilon = 0.01\n",
    "    sensitivity = max_val\n",
    "    beta = 0.05 # Classic H-Testing number\n",
    "    count = 0\n",
    "    for trial in range(num_trials):\n",
    "        private_output = laplace_mechanism(oracle_output, epsilon, sensitivity)\n",
    "        count += bad_event(oracle_output, \n",
    "                                     private_output, \n",
    "                                     sensitivity, \n",
    "                                     epsilon, \n",
    "                                     k, \n",
    "                                     beta)\n",
    "    print(\"Num trials\", num_trials)\n",
    "    print(\"Monte carlo estimate of bad prob: {:.3f}\\nExpected value: {:.3f}\\n\".format(count/num_trials, beta))"
   ]
  },
  {
   "cell_type": "code",
   "execution_count": 10,
   "metadata": {},
   "outputs": [
    {
     "name": "stdout",
     "output_type": "stream",
     "text": [
      "Num trials 10000\n",
      "Monte carlo estimate of bad prob: 0.052\n",
      "Expected value: 0.050\n",
      "\n",
      "Num trials 100000\n",
      "Monte carlo estimate of bad prob: 0.051\n",
      "Expected value: 0.050\n",
      "\n"
     ]
    }
   ],
   "source": [
    "# Experiment: Verifying empirically the tightness of alpha beta accuracy of laplace noise\n",
    "# So there is a monte carlo error in this as well but for large number\n",
    "# of trials theory says monte carlo estimate should be very close\n",
    "# to real probability of error. k=1 for sum queries\n",
    "for num_trials in ([10000, 100000]):\n",
    "    num_people = 1000\n",
    "    max_val = MAX_VAL\n",
    "    X = create_population(num_people, max_val)\n",
    "    k = 1\n",
    "\n",
    "    oracle_output = sum_oracle(X)\n",
    "\n",
    "    epsilon = 0.01\n",
    "    sensitivity = max_val\n",
    "    beta = 0.05 # Classic H-Testing number\n",
    "    count = 0\n",
    "    for trial in range(num_trials):\n",
    "        private_output = laplace_mechanism(oracle_output, epsilon, sensitivity)\n",
    "        count += bad_event(oracle_output, \n",
    "                                     private_output, \n",
    "                                     sensitivity, \n",
    "                                     epsilon, \n",
    "                                     k, \n",
    "                                     beta)\n",
    "    print(\"Num trials\", num_trials)\n",
    "    print(\"Monte carlo estimate of bad prob: {:.3f}\\nExpected value: {:.3f}\\n\".format(count/num_trials, beta))"
   ]
  },
  {
   "cell_type": "code",
   "execution_count": null,
   "metadata": {},
   "outputs": [],
   "source": []
  },
  {
   "cell_type": "code",
   "execution_count": null,
   "metadata": {},
   "outputs": [],
   "source": []
  },
  {
   "cell_type": "code",
   "execution_count": null,
   "metadata": {},
   "outputs": [],
   "source": []
  }
 ],
 "metadata": {
  "kernelspec": {
   "display_name": "Python 3",
   "language": "python",
   "name": "python3"
  },
  "language_info": {
   "codemirror_mode": {
    "name": "ipython",
    "version": 3
   },
   "file_extension": ".py",
   "mimetype": "text/x-python",
   "name": "python",
   "nbconvert_exporter": "python",
   "pygments_lexer": "ipython3",
   "version": "3.9.2"
  }
 },
 "nbformat": 4,
 "nbformat_minor": 2
}
