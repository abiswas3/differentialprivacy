{
 "cells": [
  {
   "cell_type": "code",
   "execution_count": 1,
   "metadata": {},
   "outputs": [],
   "source": [
    "%matplotlib inline\n",
    "import matplotlib.pyplot as plt\n",
    "import numpy as np\n",
    "import pandas as pd\n",
    "import itertools\n",
    "from collections import defaultdict, Counter"
   ]
  },
  {
   "cell_type": "code",
   "execution_count": 2,
   "metadata": {},
   "outputs": [],
   "source": [
    "# Example from Michael Hay's paper\n",
    "# https://cs.colgate.edu/~mhay/assets/publications/hay2017differentially.pdf\n",
    "VOTES = {\n",
    "    \n",
    "    \"V1\": ['e', 'a', 'c', 'b', 'd'],\n",
    "    \"V2\": ['a', 'e', 'd', 'c', 'b'],\n",
    "    \"V3\": ['c', 'b', 'a', 'd', 'e'],\n",
    "    \"V4\": ['e', 'd', 'c', 'b', 'a'],\n",
    "    \"V5\": ['b', 'a', 'd', 'e', 'c'],\n",
    "    \"V6\": ['c', 'e', 'd', 'a', 'b'],\n",
    "    \"V7\": ['c', 'b', 'e', 'd', 'a'],\n",
    "    \"V8\": ['e', 'd', 'c', 'b', 'a']\n",
    "}"
   ]
  },
  {
   "cell_type": "code",
   "execution_count": 3,
   "metadata": {},
   "outputs": [
    {
     "data": {
      "text/html": [
       "<div>\n",
       "<style scoped>\n",
       "    .dataframe tbody tr th:only-of-type {\n",
       "        vertical-align: middle;\n",
       "    }\n",
       "\n",
       "    .dataframe tbody tr th {\n",
       "        vertical-align: top;\n",
       "    }\n",
       "\n",
       "    .dataframe thead th {\n",
       "        text-align: right;\n",
       "    }\n",
       "</style>\n",
       "<table border=\"1\" class=\"dataframe\">\n",
       "  <thead>\n",
       "    <tr style=\"text-align: right;\">\n",
       "      <th></th>\n",
       "      <th>V1</th>\n",
       "      <th>V2</th>\n",
       "      <th>V3</th>\n",
       "      <th>V4</th>\n",
       "      <th>V5</th>\n",
       "      <th>V6</th>\n",
       "      <th>V7</th>\n",
       "      <th>V8</th>\n",
       "    </tr>\n",
       "  </thead>\n",
       "  <tbody>\n",
       "    <tr>\n",
       "      <th>0</th>\n",
       "      <td>e</td>\n",
       "      <td>a</td>\n",
       "      <td>c</td>\n",
       "      <td>e</td>\n",
       "      <td>b</td>\n",
       "      <td>c</td>\n",
       "      <td>c</td>\n",
       "      <td>e</td>\n",
       "    </tr>\n",
       "    <tr>\n",
       "      <th>1</th>\n",
       "      <td>a</td>\n",
       "      <td>e</td>\n",
       "      <td>b</td>\n",
       "      <td>d</td>\n",
       "      <td>a</td>\n",
       "      <td>e</td>\n",
       "      <td>b</td>\n",
       "      <td>d</td>\n",
       "    </tr>\n",
       "    <tr>\n",
       "      <th>2</th>\n",
       "      <td>c</td>\n",
       "      <td>d</td>\n",
       "      <td>a</td>\n",
       "      <td>c</td>\n",
       "      <td>d</td>\n",
       "      <td>d</td>\n",
       "      <td>e</td>\n",
       "      <td>c</td>\n",
       "    </tr>\n",
       "    <tr>\n",
       "      <th>3</th>\n",
       "      <td>b</td>\n",
       "      <td>c</td>\n",
       "      <td>d</td>\n",
       "      <td>b</td>\n",
       "      <td>e</td>\n",
       "      <td>a</td>\n",
       "      <td>d</td>\n",
       "      <td>b</td>\n",
       "    </tr>\n",
       "    <tr>\n",
       "      <th>4</th>\n",
       "      <td>d</td>\n",
       "      <td>b</td>\n",
       "      <td>e</td>\n",
       "      <td>a</td>\n",
       "      <td>c</td>\n",
       "      <td>b</td>\n",
       "      <td>a</td>\n",
       "      <td>a</td>\n",
       "    </tr>\n",
       "  </tbody>\n",
       "</table>\n",
       "</div>"
      ],
      "text/plain": [
       "  V1 V2 V3 V4 V5 V6 V7 V8\n",
       "0  e  a  c  e  b  c  c  e\n",
       "1  a  e  b  d  a  e  b  d\n",
       "2  c  d  a  c  d  d  e  c\n",
       "3  b  c  d  b  e  a  d  b\n",
       "4  d  b  e  a  c  b  a  a"
      ]
     },
     "execution_count": 3,
     "metadata": {},
     "output_type": "execute_result"
    }
   ],
   "source": [
    "votes = pd.DataFrame(VOTES)\n",
    "options = votes['V1'].tolist()\n",
    "votes"
   ]
  },
  {
   "cell_type": "code",
   "execution_count": 4,
   "metadata": {},
   "outputs": [],
   "source": [
    "# 1. BORDA\n",
    "# 2. QUICK SORT\n",
    "# 3. OPT"
   ]
  },
  {
   "cell_type": "code",
   "execution_count": 5,
   "metadata": {},
   "outputs": [],
   "source": [
    "def borda_ranking(votes, options):\n",
    "    \n",
    "    ranksum = defaultdict(int)\n",
    "    for voter_id, vote in votes.T.iterrows():\n",
    "        for rank, candidate in enumerate(vote):\n",
    "            ranksum[candidate] += rank\n",
    "            \n",
    "    return pd.Series(ranksum).sort_values(ascending=True)"
   ]
  },
  {
   "cell_type": "code",
   "execution_count": 6,
   "metadata": {},
   "outputs": [
    {
     "data": {
      "text/plain": [
       "e    11\n",
       "c    13\n",
       "d    18\n",
       "a    19\n",
       "b    19\n",
       "dtype: int64"
      ]
     },
     "execution_count": 6,
     "metadata": {},
     "output_type": "execute_result"
    }
   ],
   "source": [
    "borda_ranking(votes, options)"
   ]
  },
  {
   "cell_type": "code",
   "execution_count": 7,
   "metadata": {},
   "outputs": [],
   "source": [
    "def kendallTau(lstA, lstB):\n",
    "\n",
    "    '''NAIVE implementation following pseudo code\n",
    "    \n",
    "    Generate n choose 2 pairwise comparisons.\n",
    "    Then check for how many of those pairs, \n",
    "    lst A and lst B disagree. \n",
    "    \n",
    "    You can disagree if for a pair:\n",
    "    lst A has left val smaller than right val but lstB has the opposite\n",
    "    lst A has left val greater than right val but lstB has the opposite\n",
    "    '''\n",
    "    v = 0\n",
    "    n = len(lstA)\n",
    "    ranksA = {v:i for i,v in enumerate(lstA)}\n",
    "    ranksB = {v:i for i,v in enumerate(lstB)}    \n",
    "    total_pairs = itertools.combinations(lstA, 2)\n",
    "    \n",
    "    for x, y in total_pairs:\n",
    "        \n",
    "        a_flag = np.logical_and(ranksA[x] < ranksA[y], ranksB[x] > ranksB[y])\n",
    "        b_flag = np.logical_and(ranksA[x] > ranksA[y], ranksB[x] < ranksB[y])\n",
    "\n",
    "        if np.logical_or(a_flag, b_flag):\n",
    "            v += 1\n",
    "\n",
    "    return abs(v)/(n * (n - 1) / 2.0)\n"
   ]
  },
  {
   "cell_type": "code",
   "execution_count": 8,
   "metadata": {},
   "outputs": [
    {
     "data": {
      "text/plain": [
       "0.4"
      ]
     },
     "execution_count": 8,
     "metadata": {},
     "output_type": "execute_result"
    }
   ],
   "source": [
    "# EXAMPLE USAGE\n",
    "\n",
    "lstA = options[:]\n",
    "lstB = options[:]\n",
    "\n",
    "np.random.shuffle(lstA)\n",
    "np.random.shuffle(lstB)\n",
    "\n",
    "kendallTau(lstA, lstB)"
   ]
  },
  {
   "cell_type": "code",
   "execution_count": 9,
   "metadata": {},
   "outputs": [
    {
     "data": {
      "text/plain": [
       "0.4"
      ]
     },
     "execution_count": 9,
     "metadata": {},
     "output_type": "execute_result"
    }
   ],
   "source": [
    "def get_kendal_score_for_ranking(ranking, votes):\n",
    "    '''For a given ranking, calculate average kendall tau score when compared to voted rankings\n",
    "    '''\n",
    "    score = 0\n",
    "    for voter_id, vote in votes.T.iterrows():\n",
    "        score += kendallTau(ranking, vote)\n",
    "        \n",
    "    return score/votes.shape[1]\n",
    "\n",
    "get_kendal_score_for_ranking(['e', 'c', 'd', 'a', 'b'], votes)"
   ]
  },
  {
   "cell_type": "code",
   "execution_count": 10,
   "metadata": {},
   "outputs": [],
   "source": [
    "# Now iterate through all possible permutations and pick the best    \n",
    "def get_optimal_kemeny_young_rank(votes, options):\n",
    "    '''Generate all possible rankings and then get optimal ranking.\n",
    "    '''\n",
    "    all_rankings = list(itertools.permutations(options))\n",
    "    scores = []\n",
    "    for ranking in all_rankings:\n",
    "        scores.append(get_kendal_score_for_ranking(ranking, votes))\n",
    "        \n",
    "    idx = np.argmin(scores)\n",
    "    print(\"optimal score is \", np.min(scores))\n",
    "    return list(all_rankings[idx])\n"
   ]
  },
  {
   "cell_type": "code",
   "execution_count": 11,
   "metadata": {},
   "outputs": [
    {
     "name": "stdout",
     "output_type": "stream",
     "text": [
      "optimal score is  0.37499999999999994\n"
     ]
    },
    {
     "data": {
      "text/plain": [
       "['e', 'c', 'b', 'a', 'd']"
      ]
     },
     "execution_count": 11,
     "metadata": {},
     "output_type": "execute_result"
    }
   ],
   "source": [
    "get_optimal_kemeny_young_rank(votes, options)"
   ]
  }
 ],
 "metadata": {
  "kernelspec": {
   "display_name": "Python 3",
   "language": "python",
   "name": "python3"
  },
  "language_info": {
   "codemirror_mode": {
    "name": "ipython",
    "version": 3
   },
   "file_extension": ".py",
   "mimetype": "text/x-python",
   "name": "python",
   "nbconvert_exporter": "python",
   "pygments_lexer": "ipython3",
   "version": "3.7.3"
  }
 },
 "nbformat": 4,
 "nbformat_minor": 2
}
