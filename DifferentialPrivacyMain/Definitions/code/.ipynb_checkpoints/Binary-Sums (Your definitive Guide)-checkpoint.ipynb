{
 "cells": [
  {
   "cell_type": "code",
   "execution_count": 83,
   "id": "reported-blind",
   "metadata": {},
   "outputs": [
    {
     "data": {
      "image/png": "[encoded data removed]",
      "text/plain": [
       "<Figure size 432x288 with 1 Axes>"
      ]
     },
     "metadata": {
      "needs_background": "light"
     },
     "output_type": "display_data"
    }
   ],
   "source": [
    "%matplotlib inline\n",
    "import sys\n",
    "import numpy as np\n",
    "import pandas as pd\n",
    "import matplotlib.pyplot as plt\n",
    "import seaborn as sns\n",
    "from collections import defaultdict, Counter\n",
    "from matplotlib.ticker import FormatStrFormatter\n",
    "from matplotlib.ticker import StrMethodFormatter\n",
    "# plt.gca().yaxis.set_major_formatter(StrMethodFormatter('{x:,.0f}')) # No decimal places\n"
   ]
  },
  {
   "cell_type": "code",
   "execution_count": 2,
   "id": "legitimate-jumping",
   "metadata": {},
   "outputs": [],
   "source": [
    "# Population Statistics\n",
    "def create_population(num_people, positive_fraction):\n",
    "    \n",
    "    assert positive_fraction <= 1 and positive_fraction >=0 \n",
    "    return [1 if np.random.random() <= positive_fraction else 0 for i in range(num_people)]\n",
    "\n",
    "def error(true, pred):\n",
    "    return abs(true - pred)"
   ]
  },
  {
   "cell_type": "code",
   "execution_count": 19,
   "id": "million-october",
   "metadata": {},
   "outputs": [],
   "source": [
    "def additive_noise(population, \n",
    "                   epsilon, \n",
    "                   delta, \n",
    "                   debug=False, \n",
    "                   p=None):\n",
    "    \n",
    "    n = len(population)\n",
    "    if n < 100/(epsilon**2)*np.log(2/delta):\n",
    "        if debug:\n",
    "            print(\"Cannot guarantee privacy: n < {}\".format(100/(epsilon**2)*np.log(2/delta)))\n",
    "        return np.NAN\n",
    "    \n",
    "    answer = []\n",
    "    if not p:\n",
    "        p = 1 - 50*np.log(2/delta)/(epsilon**2*n) # \n",
    "       \n",
    "    \n",
    "    if debug:\n",
    "        print(\"p: {}\".format(p))    \n",
    "    \n",
    "    # FAST\n",
    "    return sum(population)/n + np.random.binomial(n,p)/n - p\n",
    "\n",
    "def sampling(population, epsilon, delta, debug=False):\n",
    "    \n",
    "    answer = []\n",
    "    n = len(population)\n",
    "    tau = 3 + np.log(1/delta)\n",
    "    m = int(np.floor(epsilon*n/tau))\n",
    "    if m <= 0 or m >=n:\n",
    "        return -1\n",
    "    \n",
    "    p = m/n\n",
    "    if debug:\n",
    "        print(\"true fraction: {}\".format(sum(population)/n))\n",
    "        print(\"n: {} m: {} tau:{} ({}) p:{}\".format(n, m, tau, tau/n, p))\n",
    "\n",
    "    num_to_sample = np.random.binomial(n, p)\n",
    "    answer = np.random.choice(population, size=num_to_sample)\n",
    "    \n",
    "    if debug:\n",
    "        print('Pre-thresholding: {}'.format(sum(answer)/len(answer)))\n",
    "    if sum(answer) < tau:\n",
    "        return 0\n",
    "    else:\n",
    "        return sum(answer)/len(answer)"
   ]
  },
  {
   "cell_type": "code",
   "execution_count": 4,
   "id": "alone-future",
   "metadata": {},
   "outputs": [],
   "source": [
    "n = 10**5 # Lots of users\n",
    "_true = 0.01\n",
    "DATASET_I = create_population(n, _true) # Only 1% of users have 1's in their data\n",
    "true = sum(DATASET_I)/n"
   ]
  },
  {
   "cell_type": "code",
   "execution_count": 20,
   "id": "third-identifier",
   "metadata": {},
   "outputs": [
    {
     "name": "stdout",
     "output_type": "stream",
     "text": [
      "Add binomial\n",
      "20/20\n",
      "Sample and Threshold\n",
      "20/20"
     ]
    }
   ],
   "source": [
    "epsilon = 0.1 # Small ish epsilon but large enough to fit in big sample regime.\n",
    "delta = 0.05 # Well understood 95% confidence interval.\n",
    "EPOCHS = 20\n",
    "ans = defaultdict(list)\n",
    "\n",
    "print('Add binomial')\n",
    "for i in range(EPOCHS):    \n",
    "    sys.stdout.write(\"\\r\")\n",
    "    sys.stdout.write(\"{}/{}\".format(i+1, EPOCHS))    \n",
    "    pred = additive_noise(DATASET_I, epsilon, delta, debug=False, p=None)\n",
    "    ans['binomial'].append(error(true, pred))\n",
    "\n",
    "print('\\nSample and Threshold')\n",
    "for i in range(EPOCHS):\n",
    "    sys.stdout.write(\"\\r\")\n",
    "    sys.stdout.write(\"{}/{}\".format(i+1, EPOCHS))    \n",
    "    pred = sampling(DATASET_I, epsilon, delta, debug=False)\n",
    "    ans['sample'].append(error(true, pred))\n",
    "    "
   ]
  },
  {
   "cell_type": "code",
   "execution_count": 6,
   "id": "sitting-loading",
   "metadata": {},
   "outputs": [
    {
     "data": {
      "text/plain": [
       "binomial    3.137448\n",
       "sample      2.785614\n",
       "dtype: float64"
      ]
     },
     "execution_count": 6,
     "metadata": {},
     "output_type": "execute_result"
    }
   ],
   "source": [
    "-np.log10(pd.DataFrame(ans).mean())"
   ]
  },
  {
   "cell_type": "code",
   "execution_count": 21,
   "id": "lightweight-knock",
   "metadata": {},
   "outputs": [
    {
     "name": "stdout",
     "output_type": "stream",
     "text": [
      "10/10"
     ]
    },
    {
     "data": {
      "text/plain": [
       "Text(0.5, 0, 'Epsilon')"
      ]
     },
     "execution_count": 21,
     "metadata": {},
     "output_type": "execute_result"
    },
    {
     "data": {
      "image/png": "[encoded data removed]",
      "text/plain": [
       "<Figure size 1440x432 with 1 Axes>"
      ]
     },
     "metadata": {
      "needs_background": "light"
     },
     "output_type": "display_data"
    }
   ],
   "source": [
    "epsilons = np.linspace(0.1, 0.8, 10)\n",
    "delta = 0.05\n",
    "data = defaultdict(list)\n",
    "true = sum(DATASET_I)/n\n",
    "for i, epsilon in enumerate(epsilons):\n",
    "    sys.stdout.write(\"\\r\")\n",
    "    sys.stdout.write(\"{}/{}\".format(i+1, len(epsilons)))    \n",
    "    \n",
    "    ans = defaultdict(list)\n",
    "#     print('Add binomial')\n",
    "    for _ in range(EPOCHS):    \n",
    "        pred = additive_noise(DATASET_I, epsilon, delta, debug=False, p=None)\n",
    "        ans['binomial'].append(error(true, pred))\n",
    "\n",
    "#     print('\\nSample and Threshold')\n",
    "    for _ in range(EPOCHS):\n",
    "        pred = sampling(DATASET_I, epsilon, delta, debug=False)\n",
    "        ans['sample'].append(error(true, pred))\n",
    "\n",
    "    data[epsilon] = [\n",
    "        np.mean(ans['sample']),\n",
    "        np.std(ans['sample']),\n",
    "        np.mean(ans['binomial']),\n",
    "        np.std(ans['binomial']),        \n",
    "    ]\n",
    "    \n",
    "df = pd.DataFrame(data, index=['sampleM', 'sampleSTD', 'binM', 'binSTD']).T\n",
    "ax = df[['sampleM', 'binM']].plot(figsize=(20,6), fontsize=14)\n",
    "ax.set_title('Error of regimes for sparse large datasets k/n={0:.4f}'.format(true), fontsize=17)\n",
    "ax.set_ylabel('Absolute Error (log10 scale)', fontsize=16)\n",
    "ax.set_xlabel('Epsilon', fontsize=16)\n",
    "# ax.set_yscale('log')    "
   ]
  },
  {
   "cell_type": "code",
   "execution_count": 35,
   "id": "finnish-september",
   "metadata": {},
   "outputs": [],
   "source": [
    "n = 10**4 # Lots of users\n",
    "_true = 0.90 # Lots of people\n",
    "DATASET_II = create_population(n, _true) # Only 1% of users have 1's in their data\n"
   ]
  },
  {
   "cell_type": "code",
   "execution_count": 106,
   "id": "fabulous-credit",
   "metadata": {},
   "outputs": [
    {
     "name": "stdout",
     "output_type": "stream",
     "text": [
      "\r",
      "1/5\r",
      "2/5\r",
      "3/5\r",
      "4/5\r",
      "5/5"
     ]
    },
    {
     "ename": "ValueError",
     "evalue": "cannot reindex from a duplicate axis",
     "output_type": "error",
     "traceback": [
      "\u001b[0;31m---------------------------------------------------------------------------\u001b[0m",
      "\u001b[0;31mValueError\u001b[0m                                Traceback (most recent call last)",
      "\u001b[0;32m<ipython-input-106-ac98fd4364fb>\u001b[0m in \u001b[0;36m<module>\u001b[0;34m\u001b[0m\n\u001b[1;32m     37\u001b[0m \u001b[0mdf\u001b[0m \u001b[0;34m=\u001b[0m \u001b[0mpd\u001b[0m\u001b[0;34m.\u001b[0m\u001b[0mDataFrame\u001b[0m\u001b[0;34m(\u001b[0m\u001b[0marray\u001b[0m\u001b[0;34m,\u001b[0m \u001b[0mindex\u001b[0m\u001b[0;34m=\u001b[0m\u001b[0mindex\u001b[0m\u001b[0;34m)\u001b[0m\u001b[0;34m.\u001b[0m\u001b[0mT\u001b[0m\u001b[0;34m\u001b[0m\u001b[0;34m\u001b[0m\u001b[0m\n\u001b[1;32m     38\u001b[0m \u001b[0;31m# df.T.boxplot(by ='epsilon', column =['binomial'], grid = False)\u001b[0m\u001b[0;34m\u001b[0m\u001b[0;34m\u001b[0m\u001b[0;34m\u001b[0m\u001b[0m\n\u001b[0;32m---> 39\u001b[0;31m \u001b[0mdf1\u001b[0m \u001b[0;34m=\u001b[0m \u001b[0mdf\u001b[0m\u001b[0;34m.\u001b[0m\u001b[0mstack\u001b[0m\u001b[0;34m(\u001b[0m\u001b[0mlevel\u001b[0m\u001b[0;34m=\u001b[0m\u001b[0;36m1\u001b[0m\u001b[0;34m)\u001b[0m\u001b[0;34m.\u001b[0m\u001b[0mreset_index\u001b[0m\u001b[0;34m(\u001b[0m\u001b[0mlevel\u001b[0m\u001b[0;34m=\u001b[0m\u001b[0;36m0\u001b[0m\u001b[0;34m,\u001b[0m \u001b[0mdrop\u001b[0m\u001b[0;34m=\u001b[0m\u001b[0;32mTrue\u001b[0m\u001b[0;34m)\u001b[0m\u001b[0;34m.\u001b[0m\u001b[0mreset_index\u001b[0m\u001b[0;34m(\u001b[0m\u001b[0;34m)\u001b[0m\u001b[0;34m\u001b[0m\u001b[0;34m\u001b[0m\u001b[0m\n\u001b[0m\u001b[1;32m     40\u001b[0m \u001b[0maxes\u001b[0m \u001b[0;34m=\u001b[0m \u001b[0mdf1\u001b[0m\u001b[0;34m.\u001b[0m\u001b[0mboxplot\u001b[0m\u001b[0;34m(\u001b[0m\u001b[0mby\u001b[0m\u001b[0;34m=\u001b[0m\u001b[0;34m'epsilon'\u001b[0m\u001b[0;34m,\u001b[0m \u001b[0mfigsize\u001b[0m\u001b[0;34m=\u001b[0m\u001b[0;34m(\u001b[0m\u001b[0;36m20\u001b[0m\u001b[0;34m,\u001b[0m\u001b[0;36m6\u001b[0m\u001b[0;34m)\u001b[0m\u001b[0;34m,\u001b[0m \u001b[0mgrid\u001b[0m\u001b[0;34m=\u001b[0m\u001b[0;32mFalse\u001b[0m\u001b[0;34m)\u001b[0m\u001b[0;34m;\u001b[0m\u001b[0;34m\u001b[0m\u001b[0;34m\u001b[0m\u001b[0m\n\u001b[1;32m     41\u001b[0m \u001b[0;34m\u001b[0m\u001b[0m\n",
      "\u001b[0;32m~/scratch_projects/instabot1_ari/insta_scratch/blah/lib/python3.9/site-packages/pandas/core/frame.py\u001b[0m in \u001b[0;36mstack\u001b[0;34m(self, level, dropna)\u001b[0m\n\u001b[1;32m   7208\u001b[0m             \u001b[0mresult\u001b[0m \u001b[0;34m=\u001b[0m \u001b[0mstack_multiple\u001b[0m\u001b[0;34m(\u001b[0m\u001b[0mself\u001b[0m\u001b[0;34m,\u001b[0m \u001b[0mlevel\u001b[0m\u001b[0;34m,\u001b[0m \u001b[0mdropna\u001b[0m\u001b[0;34m=\u001b[0m\u001b[0mdropna\u001b[0m\u001b[0;34m)\u001b[0m\u001b[0;34m\u001b[0m\u001b[0;34m\u001b[0m\u001b[0m\n\u001b[1;32m   7209\u001b[0m         \u001b[0;32melse\u001b[0m\u001b[0;34m:\u001b[0m\u001b[0;34m\u001b[0m\u001b[0;34m\u001b[0m\u001b[0m\n\u001b[0;32m-> 7210\u001b[0;31m             \u001b[0mresult\u001b[0m \u001b[0;34m=\u001b[0m \u001b[0mstack\u001b[0m\u001b[0;34m(\u001b[0m\u001b[0mself\u001b[0m\u001b[0;34m,\u001b[0m \u001b[0mlevel\u001b[0m\u001b[0;34m,\u001b[0m \u001b[0mdropna\u001b[0m\u001b[0;34m=\u001b[0m\u001b[0mdropna\u001b[0m\u001b[0;34m)\u001b[0m\u001b[0;34m\u001b[0m\u001b[0;34m\u001b[0m\u001b[0m\n\u001b[0m\u001b[1;32m   7211\u001b[0m \u001b[0;34m\u001b[0m\u001b[0m\n\u001b[1;32m   7212\u001b[0m         \u001b[0;32mreturn\u001b[0m \u001b[0mresult\u001b[0m\u001b[0;34m.\u001b[0m\u001b[0m__finalize__\u001b[0m\u001b[0;34m(\u001b[0m\u001b[0mself\u001b[0m\u001b[0;34m,\u001b[0m \u001b[0mmethod\u001b[0m\u001b[0;34m=\u001b[0m\u001b[0;34m\"stack\"\u001b[0m\u001b[0;34m)\u001b[0m\u001b[0;34m\u001b[0m\u001b[0;34m\u001b[0m\u001b[0m\n",
      "\u001b[0;32m~/scratch_projects/instabot1_ari/insta_scratch/blah/lib/python3.9/site-packages/pandas/core/reshape/reshape.py\u001b[0m in \u001b[0;36mstack\u001b[0;34m(frame, level, dropna)\u001b[0m\n\u001b[1;32m    498\u001b[0m \u001b[0;34m\u001b[0m\u001b[0m\n\u001b[1;32m    499\u001b[0m     \u001b[0;32mif\u001b[0m \u001b[0misinstance\u001b[0m\u001b[0;34m(\u001b[0m\u001b[0mframe\u001b[0m\u001b[0;34m.\u001b[0m\u001b[0mcolumns\u001b[0m\u001b[0;34m,\u001b[0m \u001b[0mMultiIndex\u001b[0m\u001b[0;34m)\u001b[0m\u001b[0;34m:\u001b[0m\u001b[0;34m\u001b[0m\u001b[0;34m\u001b[0m\u001b[0m\n\u001b[0;32m--> 500\u001b[0;31m         \u001b[0;32mreturn\u001b[0m \u001b[0m_stack_multi_columns\u001b[0m\u001b[0;34m(\u001b[0m\u001b[0mframe\u001b[0m\u001b[0;34m,\u001b[0m \u001b[0mlevel_num\u001b[0m\u001b[0;34m=\u001b[0m\u001b[0mlevel_num\u001b[0m\u001b[0;34m,\u001b[0m \u001b[0mdropna\u001b[0m\u001b[0;34m=\u001b[0m\u001b[0mdropna\u001b[0m\u001b[0;34m)\u001b[0m\u001b[0;34m\u001b[0m\u001b[0;34m\u001b[0m\u001b[0m\n\u001b[0m\u001b[1;32m    501\u001b[0m     \u001b[0;32melif\u001b[0m \u001b[0misinstance\u001b[0m\u001b[0;34m(\u001b[0m\u001b[0mframe\u001b[0m\u001b[0;34m.\u001b[0m\u001b[0mindex\u001b[0m\u001b[0;34m,\u001b[0m \u001b[0mMultiIndex\u001b[0m\u001b[0;34m)\u001b[0m\u001b[0;34m:\u001b[0m\u001b[0;34m\u001b[0m\u001b[0;34m\u001b[0m\u001b[0m\n\u001b[1;32m    502\u001b[0m         \u001b[0mnew_levels\u001b[0m \u001b[0;34m=\u001b[0m \u001b[0mlist\u001b[0m\u001b[0;34m(\u001b[0m\u001b[0mframe\u001b[0m\u001b[0;34m.\u001b[0m\u001b[0mindex\u001b[0m\u001b[0;34m.\u001b[0m\u001b[0mlevels\u001b[0m\u001b[0;34m)\u001b[0m\u001b[0;34m\u001b[0m\u001b[0;34m\u001b[0m\u001b[0m\n",
      "\u001b[0;32m~/scratch_projects/instabot1_ari/insta_scratch/blah/lib/python3.9/site-packages/pandas/core/reshape/reshape.py\u001b[0m in \u001b[0;36m_stack_multi_columns\u001b[0;34m(frame, level_num, dropna)\u001b[0m\n\u001b[1;32m    670\u001b[0m             \u001b[0mchunk\u001b[0m \u001b[0;34m=\u001b[0m \u001b[0mthis\u001b[0m\u001b[0;34m.\u001b[0m\u001b[0mloc\u001b[0m\u001b[0;34m[\u001b[0m\u001b[0;34m:\u001b[0m\u001b[0;34m,\u001b[0m \u001b[0mthis\u001b[0m\u001b[0;34m.\u001b[0m\u001b[0mcolumns\u001b[0m\u001b[0;34m[\u001b[0m\u001b[0mloc\u001b[0m\u001b[0;34m]\u001b[0m\u001b[0;34m]\u001b[0m\u001b[0;34m\u001b[0m\u001b[0;34m\u001b[0m\u001b[0m\n\u001b[1;32m    671\u001b[0m             \u001b[0mchunk\u001b[0m\u001b[0;34m.\u001b[0m\u001b[0mcolumns\u001b[0m \u001b[0;34m=\u001b[0m \u001b[0mlevel_vals\u001b[0m\u001b[0;34m.\u001b[0m\u001b[0mtake\u001b[0m\u001b[0;34m(\u001b[0m\u001b[0mchunk\u001b[0m\u001b[0;34m.\u001b[0m\u001b[0mcolumns\u001b[0m\u001b[0;34m.\u001b[0m\u001b[0mcodes\u001b[0m\u001b[0;34m[\u001b[0m\u001b[0;34m-\u001b[0m\u001b[0;36m1\u001b[0m\u001b[0;34m]\u001b[0m\u001b[0;34m)\u001b[0m\u001b[0;34m\u001b[0m\u001b[0;34m\u001b[0m\u001b[0m\n\u001b[0;32m--> 672\u001b[0;31m             \u001b[0mvalue_slice\u001b[0m \u001b[0;34m=\u001b[0m \u001b[0mchunk\u001b[0m\u001b[0;34m.\u001b[0m\u001b[0mreindex\u001b[0m\u001b[0;34m(\u001b[0m\u001b[0mcolumns\u001b[0m\u001b[0;34m=\u001b[0m\u001b[0mlevel_vals_used\u001b[0m\u001b[0;34m)\u001b[0m\u001b[0;34m.\u001b[0m\u001b[0mvalues\u001b[0m\u001b[0;34m\u001b[0m\u001b[0;34m\u001b[0m\u001b[0m\n\u001b[0m\u001b[1;32m    673\u001b[0m         \u001b[0;32melse\u001b[0m\u001b[0;34m:\u001b[0m\u001b[0;34m\u001b[0m\u001b[0;34m\u001b[0m\u001b[0m\n\u001b[1;32m    674\u001b[0m             if frame._is_homogeneous_type and is_extension_array_dtype(\n",
      "\u001b[0;32m~/scratch_projects/instabot1_ari/insta_scratch/blah/lib/python3.9/site-packages/pandas/util/_decorators.py\u001b[0m in \u001b[0;36mwrapper\u001b[0;34m(*args, **kwargs)\u001b[0m\n\u001b[1;32m    310\u001b[0m         \u001b[0;34m@\u001b[0m\u001b[0mwraps\u001b[0m\u001b[0;34m(\u001b[0m\u001b[0mfunc\u001b[0m\u001b[0;34m)\u001b[0m\u001b[0;34m\u001b[0m\u001b[0;34m\u001b[0m\u001b[0m\n\u001b[1;32m    311\u001b[0m         \u001b[0;32mdef\u001b[0m \u001b[0mwrapper\u001b[0m\u001b[0;34m(\u001b[0m\u001b[0;34m*\u001b[0m\u001b[0margs\u001b[0m\u001b[0;34m,\u001b[0m \u001b[0;34m**\u001b[0m\u001b[0mkwargs\u001b[0m\u001b[0;34m)\u001b[0m \u001b[0;34m->\u001b[0m \u001b[0mCallable\u001b[0m\u001b[0;34m[\u001b[0m\u001b[0;34m...\u001b[0m\u001b[0;34m,\u001b[0m \u001b[0mAny\u001b[0m\u001b[0;34m]\u001b[0m\u001b[0;34m:\u001b[0m\u001b[0;34m\u001b[0m\u001b[0;34m\u001b[0m\u001b[0m\n\u001b[0;32m--> 312\u001b[0;31m             \u001b[0;32mreturn\u001b[0m \u001b[0mfunc\u001b[0m\u001b[0;34m(\u001b[0m\u001b[0;34m*\u001b[0m\u001b[0margs\u001b[0m\u001b[0;34m,\u001b[0m \u001b[0;34m**\u001b[0m\u001b[0mkwargs\u001b[0m\u001b[0;34m)\u001b[0m\u001b[0;34m\u001b[0m\u001b[0;34m\u001b[0m\u001b[0m\n\u001b[0m\u001b[1;32m    313\u001b[0m \u001b[0;34m\u001b[0m\u001b[0m\n\u001b[1;32m    314\u001b[0m         \u001b[0mkind\u001b[0m \u001b[0;34m=\u001b[0m \u001b[0minspect\u001b[0m\u001b[0;34m.\u001b[0m\u001b[0mParameter\u001b[0m\u001b[0;34m.\u001b[0m\u001b[0mPOSITIONAL_OR_KEYWORD\u001b[0m\u001b[0;34m\u001b[0m\u001b[0;34m\u001b[0m\u001b[0m\n",
      "\u001b[0;32m~/scratch_projects/instabot1_ari/insta_scratch/blah/lib/python3.9/site-packages/pandas/core/frame.py\u001b[0m in \u001b[0;36mreindex\u001b[0;34m(self, *args, **kwargs)\u001b[0m\n\u001b[1;32m   4174\u001b[0m         \u001b[0mkwargs\u001b[0m\u001b[0;34m.\u001b[0m\u001b[0mpop\u001b[0m\u001b[0;34m(\u001b[0m\u001b[0;34m\"axis\"\u001b[0m\u001b[0;34m,\u001b[0m \u001b[0;32mNone\u001b[0m\u001b[0;34m)\u001b[0m\u001b[0;34m\u001b[0m\u001b[0;34m\u001b[0m\u001b[0m\n\u001b[1;32m   4175\u001b[0m         \u001b[0mkwargs\u001b[0m\u001b[0;34m.\u001b[0m\u001b[0mpop\u001b[0m\u001b[0;34m(\u001b[0m\u001b[0;34m\"labels\"\u001b[0m\u001b[0;34m,\u001b[0m \u001b[0;32mNone\u001b[0m\u001b[0;34m)\u001b[0m\u001b[0;34m\u001b[0m\u001b[0;34m\u001b[0m\u001b[0m\n\u001b[0;32m-> 4176\u001b[0;31m         \u001b[0;32mreturn\u001b[0m \u001b[0msuper\u001b[0m\u001b[0;34m(\u001b[0m\u001b[0;34m)\u001b[0m\u001b[0;34m.\u001b[0m\u001b[0mreindex\u001b[0m\u001b[0;34m(\u001b[0m\u001b[0;34m**\u001b[0m\u001b[0mkwargs\u001b[0m\u001b[0;34m)\u001b[0m\u001b[0;34m\u001b[0m\u001b[0;34m\u001b[0m\u001b[0m\n\u001b[0m\u001b[1;32m   4177\u001b[0m \u001b[0;34m\u001b[0m\u001b[0m\n\u001b[1;32m   4178\u001b[0m     def drop(\n",
      "\u001b[0;32m~/scratch_projects/instabot1_ari/insta_scratch/blah/lib/python3.9/site-packages/pandas/core/generic.py\u001b[0m in \u001b[0;36mreindex\u001b[0;34m(self, *args, **kwargs)\u001b[0m\n\u001b[1;32m   4809\u001b[0m \u001b[0;34m\u001b[0m\u001b[0m\n\u001b[1;32m   4810\u001b[0m         \u001b[0;31m# perform the reindex on the axes\u001b[0m\u001b[0;34m\u001b[0m\u001b[0;34m\u001b[0m\u001b[0;34m\u001b[0m\u001b[0m\n\u001b[0;32m-> 4811\u001b[0;31m         return self._reindex_axes(\n\u001b[0m\u001b[1;32m   4812\u001b[0m             \u001b[0maxes\u001b[0m\u001b[0;34m,\u001b[0m \u001b[0mlevel\u001b[0m\u001b[0;34m,\u001b[0m \u001b[0mlimit\u001b[0m\u001b[0;34m,\u001b[0m \u001b[0mtolerance\u001b[0m\u001b[0;34m,\u001b[0m \u001b[0mmethod\u001b[0m\u001b[0;34m,\u001b[0m \u001b[0mfill_value\u001b[0m\u001b[0;34m,\u001b[0m \u001b[0mcopy\u001b[0m\u001b[0;34m\u001b[0m\u001b[0;34m\u001b[0m\u001b[0m\n\u001b[1;32m   4813\u001b[0m         ).__finalize__(self, method=\"reindex\")\n",
      "\u001b[0;32m~/scratch_projects/instabot1_ari/insta_scratch/blah/lib/python3.9/site-packages/pandas/core/frame.py\u001b[0m in \u001b[0;36m_reindex_axes\u001b[0;34m(self, axes, level, limit, tolerance, method, fill_value, copy)\u001b[0m\n\u001b[1;32m   4014\u001b[0m         \u001b[0mcolumns\u001b[0m \u001b[0;34m=\u001b[0m \u001b[0maxes\u001b[0m\u001b[0;34m[\u001b[0m\u001b[0;34m\"columns\"\u001b[0m\u001b[0;34m]\u001b[0m\u001b[0;34m\u001b[0m\u001b[0;34m\u001b[0m\u001b[0m\n\u001b[1;32m   4015\u001b[0m         \u001b[0;32mif\u001b[0m \u001b[0mcolumns\u001b[0m \u001b[0;32mis\u001b[0m \u001b[0;32mnot\u001b[0m \u001b[0;32mNone\u001b[0m\u001b[0;34m:\u001b[0m\u001b[0;34m\u001b[0m\u001b[0;34m\u001b[0m\u001b[0m\n\u001b[0;32m-> 4016\u001b[0;31m             frame = frame._reindex_columns(\n\u001b[0m\u001b[1;32m   4017\u001b[0m                 \u001b[0mcolumns\u001b[0m\u001b[0;34m,\u001b[0m \u001b[0mmethod\u001b[0m\u001b[0;34m,\u001b[0m \u001b[0mcopy\u001b[0m\u001b[0;34m,\u001b[0m \u001b[0mlevel\u001b[0m\u001b[0;34m,\u001b[0m \u001b[0mfill_value\u001b[0m\u001b[0;34m,\u001b[0m \u001b[0mlimit\u001b[0m\u001b[0;34m,\u001b[0m \u001b[0mtolerance\u001b[0m\u001b[0;34m\u001b[0m\u001b[0;34m\u001b[0m\u001b[0m\n\u001b[1;32m   4018\u001b[0m             )\n",
      "\u001b[0;32m~/scratch_projects/instabot1_ari/insta_scratch/blah/lib/python3.9/site-packages/pandas/core/frame.py\u001b[0m in \u001b[0;36m_reindex_columns\u001b[0;34m(self, new_columns, method, copy, level, fill_value, limit, tolerance)\u001b[0m\n\u001b[1;32m   4059\u001b[0m             \u001b[0mnew_columns\u001b[0m\u001b[0;34m,\u001b[0m \u001b[0mmethod\u001b[0m\u001b[0;34m=\u001b[0m\u001b[0mmethod\u001b[0m\u001b[0;34m,\u001b[0m \u001b[0mlevel\u001b[0m\u001b[0;34m=\u001b[0m\u001b[0mlevel\u001b[0m\u001b[0;34m,\u001b[0m \u001b[0mlimit\u001b[0m\u001b[0;34m=\u001b[0m\u001b[0mlimit\u001b[0m\u001b[0;34m,\u001b[0m \u001b[0mtolerance\u001b[0m\u001b[0;34m=\u001b[0m\u001b[0mtolerance\u001b[0m\u001b[0;34m\u001b[0m\u001b[0;34m\u001b[0m\u001b[0m\n\u001b[1;32m   4060\u001b[0m         )\n\u001b[0;32m-> 4061\u001b[0;31m         return self._reindex_with_indexers(\n\u001b[0m\u001b[1;32m   4062\u001b[0m             \u001b[0;34m{\u001b[0m\u001b[0;36m1\u001b[0m\u001b[0;34m:\u001b[0m \u001b[0;34m[\u001b[0m\u001b[0mnew_columns\u001b[0m\u001b[0;34m,\u001b[0m \u001b[0mindexer\u001b[0m\u001b[0;34m]\u001b[0m\u001b[0;34m}\u001b[0m\u001b[0;34m,\u001b[0m\u001b[0;34m\u001b[0m\u001b[0;34m\u001b[0m\u001b[0m\n\u001b[1;32m   4063\u001b[0m             \u001b[0mcopy\u001b[0m\u001b[0;34m=\u001b[0m\u001b[0mcopy\u001b[0m\u001b[0;34m,\u001b[0m\u001b[0;34m\u001b[0m\u001b[0;34m\u001b[0m\u001b[0m\n",
      "\u001b[0;32m~/scratch_projects/instabot1_ari/insta_scratch/blah/lib/python3.9/site-packages/pandas/core/generic.py\u001b[0m in \u001b[0;36m_reindex_with_indexers\u001b[0;34m(self, reindexers, fill_value, copy, allow_dups)\u001b[0m\n\u001b[1;32m   4875\u001b[0m \u001b[0;34m\u001b[0m\u001b[0m\n\u001b[1;32m   4876\u001b[0m             \u001b[0;31m# TODO: speed up on homogeneous DataFrame objects\u001b[0m\u001b[0;34m\u001b[0m\u001b[0;34m\u001b[0m\u001b[0;34m\u001b[0m\u001b[0m\n\u001b[0;32m-> 4877\u001b[0;31m             new_data = new_data.reindex_indexer(\n\u001b[0m\u001b[1;32m   4878\u001b[0m                 \u001b[0mindex\u001b[0m\u001b[0;34m,\u001b[0m\u001b[0;34m\u001b[0m\u001b[0;34m\u001b[0m\u001b[0m\n\u001b[1;32m   4879\u001b[0m                 \u001b[0mindexer\u001b[0m\u001b[0;34m,\u001b[0m\u001b[0;34m\u001b[0m\u001b[0;34m\u001b[0m\u001b[0m\n",
      "\u001b[0;32m~/scratch_projects/instabot1_ari/insta_scratch/blah/lib/python3.9/site-packages/pandas/core/internals/managers.py\u001b[0m in \u001b[0;36mreindex_indexer\u001b[0;34m(self, new_axis, indexer, axis, fill_value, allow_dups, copy, consolidate, only_slice)\u001b[0m\n\u001b[1;32m   1299\u001b[0m         \u001b[0;31m# some axes don't allow reindexing with dups\u001b[0m\u001b[0;34m\u001b[0m\u001b[0;34m\u001b[0m\u001b[0;34m\u001b[0m\u001b[0m\n\u001b[1;32m   1300\u001b[0m         \u001b[0;32mif\u001b[0m \u001b[0;32mnot\u001b[0m \u001b[0mallow_dups\u001b[0m\u001b[0;34m:\u001b[0m\u001b[0;34m\u001b[0m\u001b[0;34m\u001b[0m\u001b[0m\n\u001b[0;32m-> 1301\u001b[0;31m             \u001b[0mself\u001b[0m\u001b[0;34m.\u001b[0m\u001b[0maxes\u001b[0m\u001b[0;34m[\u001b[0m\u001b[0maxis\u001b[0m\u001b[0;34m]\u001b[0m\u001b[0;34m.\u001b[0m\u001b[0m_can_reindex\u001b[0m\u001b[0;34m(\u001b[0m\u001b[0mindexer\u001b[0m\u001b[0;34m)\u001b[0m\u001b[0;34m\u001b[0m\u001b[0;34m\u001b[0m\u001b[0m\n\u001b[0m\u001b[1;32m   1302\u001b[0m \u001b[0;34m\u001b[0m\u001b[0m\n\u001b[1;32m   1303\u001b[0m         \u001b[0;32mif\u001b[0m \u001b[0maxis\u001b[0m \u001b[0;34m>=\u001b[0m \u001b[0mself\u001b[0m\u001b[0;34m.\u001b[0m\u001b[0mndim\u001b[0m\u001b[0;34m:\u001b[0m\u001b[0;34m\u001b[0m\u001b[0;34m\u001b[0m\u001b[0m\n",
      "\u001b[0;32m~/scratch_projects/instabot1_ari/insta_scratch/blah/lib/python3.9/site-packages/pandas/core/indexes/base.py\u001b[0m in \u001b[0;36m_can_reindex\u001b[0;34m(self, indexer)\u001b[0m\n\u001b[1;32m   3474\u001b[0m         \u001b[0;31m# trying to reindex on an axis with duplicates\u001b[0m\u001b[0;34m\u001b[0m\u001b[0;34m\u001b[0m\u001b[0;34m\u001b[0m\u001b[0m\n\u001b[1;32m   3475\u001b[0m         \u001b[0;32mif\u001b[0m \u001b[0;32mnot\u001b[0m \u001b[0mself\u001b[0m\u001b[0;34m.\u001b[0m\u001b[0m_index_as_unique\u001b[0m \u001b[0;32mand\u001b[0m \u001b[0mlen\u001b[0m\u001b[0;34m(\u001b[0m\u001b[0mindexer\u001b[0m\u001b[0;34m)\u001b[0m\u001b[0;34m:\u001b[0m\u001b[0;34m\u001b[0m\u001b[0;34m\u001b[0m\u001b[0m\n\u001b[0;32m-> 3476\u001b[0;31m             \u001b[0;32mraise\u001b[0m \u001b[0mValueError\u001b[0m\u001b[0;34m(\u001b[0m\u001b[0;34m\"cannot reindex from a duplicate axis\"\u001b[0m\u001b[0;34m)\u001b[0m\u001b[0;34m\u001b[0m\u001b[0;34m\u001b[0m\u001b[0m\n\u001b[0m\u001b[1;32m   3477\u001b[0m \u001b[0;34m\u001b[0m\u001b[0m\n\u001b[1;32m   3478\u001b[0m     \u001b[0;32mdef\u001b[0m \u001b[0mreindex\u001b[0m\u001b[0;34m(\u001b[0m\u001b[0mself\u001b[0m\u001b[0;34m,\u001b[0m \u001b[0mtarget\u001b[0m\u001b[0;34m,\u001b[0m \u001b[0mmethod\u001b[0m\u001b[0;34m=\u001b[0m\u001b[0;32mNone\u001b[0m\u001b[0;34m,\u001b[0m \u001b[0mlevel\u001b[0m\u001b[0;34m=\u001b[0m\u001b[0;32mNone\u001b[0m\u001b[0;34m,\u001b[0m \u001b[0mlimit\u001b[0m\u001b[0;34m=\u001b[0m\u001b[0;32mNone\u001b[0m\u001b[0;34m,\u001b[0m \u001b[0mtolerance\u001b[0m\u001b[0;34m=\u001b[0m\u001b[0;32mNone\u001b[0m\u001b[0;34m)\u001b[0m\u001b[0;34m:\u001b[0m\u001b[0;34m\u001b[0m\u001b[0;34m\u001b[0m\u001b[0m\n",
      "\u001b[0;31mValueError\u001b[0m: cannot reindex from a duplicate axis"
     ]
    }
   ],
   "source": [
    "epsilons = np.linspace(0.01, 0.8, 5)\n",
    "delta = 0.05\n",
    "data = defaultdict(list)\n",
    "true = sum(DATASET_II)/n\n",
    "for i, epsilon in enumerate(epsilons):\n",
    "    sys.stdout.write(\"\\r\")\n",
    "    sys.stdout.write(\"{}/{}\".format(i+1, len(epsilons)))    \n",
    "    \n",
    "    ans = defaultdict(list)\n",
    "#     print('Add binomial')\n",
    "    for _ in range(EPOCHS):    \n",
    "        pred = additive_noise(DATASET_II, epsilon, delta, debug=False, p=None)\n",
    "        ans['binomial'].append(error(true, pred))\n",
    "\n",
    "#     print('\\nSample and Threshold')\n",
    "    for _ in range(EPOCHS):\n",
    "        pred = sampling(DATASET_II, epsilon, delta, debug=False)\n",
    "        ans['sample'].append(error(true, pred))\n",
    "\n",
    "    data[epsilon] = {'sample': ans['sample'], 'binomial': ans['binomial']}\n",
    "    \n",
    "# df = pd.DataFrame(data, index=['sampleM', 'sampleSTD', 'binM', 'binSTD']).T\n",
    "# ax = df[['sampleM', 'binM']].plot(figsize=(20,6), fontsize=14)\n",
    "# ax.set_title('Error of regimes for dense large datasets k/n={0:.4f}'.format(true), fontsize=17)\n",
    "# ax.set_ylabel('Absolute Error (log10 scale)', fontsize=16)\n",
    "# ax.set_xlabel('Epsilon', fontsize=16)\n",
    "# ax.set_yscale('log')    \n",
    "# pd.DataFrame.from_dict(data, orient='index')\n",
    "tupes = []\n",
    "for k_ep in data:\n",
    "    for alg in ['sample', 'binomial']:\n",
    "        tupes.append((alg, k_ep))\n",
    "        temp = data[k_ep][alg]\n",
    "        \n",
    "index = pd.MultiIndex.from_tuples(tupes, names=[\"alg\",\"epsilon\"]) \n",
    "array = [data[i][j] for j,i in tupes]\n",
    "df = pd.DataFrame(array, index=index).T\n",
    "# df.T.boxplot(by ='epsilon', column =['binomial'], grid = False)\n",
    "df1 = df.stack(level=1).reset_index(level=0, drop=True).reset_index()\n",
    "axes = df1.boxplot(by='epsilon', figsize=(20,6), grid=False);\n",
    "\n"
   ]
  },
  {
   "cell_type": "code",
   "execution_count": 102,
   "id": "alien-samuel",
   "metadata": {},
   "outputs": [
    {
     "data": {
      "text/plain": [
       "<AxesSubplot:title={'center':'binomial'}, xlabel='[epsilon]'>"
      ]
     },
     "execution_count": 102,
     "metadata": {},
     "output_type": "execute_result"
    }
   ],
   "source": [
    "axes[0]"
   ]
  },
  {
   "cell_type": "code",
   "execution_count": 61,
   "id": "arbitrary-bulgarian",
   "metadata": {},
   "outputs": [
    {
     "data": {
      "text/html": [
       "<div>\n",
       "<style scoped>\n",
       "    .dataframe tbody tr th:only-of-type {\n",
       "        vertical-align: middle;\n",
       "    }\n",
       "\n",
       "    .dataframe tbody tr th {\n",
       "        vertical-align: top;\n",
       "    }\n",
       "\n",
       "    .dataframe thead tr th {\n",
       "        text-align: left;\n",
       "    }\n",
       "</style>\n",
       "<table border=\"1\" class=\"dataframe\">\n",
       "  <thead>\n",
       "    <tr>\n",
       "      <th>Year</th>\n",
       "      <th colspan=\"2\" halign=\"left\">2000</th>\n",
       "      <th colspan=\"2\" halign=\"left\">2010</th>\n",
       "    </tr>\n",
       "    <tr>\n",
       "      <th>Text</th>\n",
       "      <th>a</th>\n",
       "      <th>b</th>\n",
       "      <th>a</th>\n",
       "      <th>b</th>\n",
       "    </tr>\n",
       "  </thead>\n",
       "  <tbody>\n",
       "    <tr>\n",
       "      <th>0</th>\n",
       "      <td>0.026375</td>\n",
       "      <td>0.260322</td>\n",
       "      <td>-0.395146</td>\n",
       "      <td>-0.204301</td>\n",
       "    </tr>\n",
       "    <tr>\n",
       "      <th>1</th>\n",
       "      <td>-1.271633</td>\n",
       "      <td>-2.596879</td>\n",
       "      <td>0.289681</td>\n",
       "      <td>-0.873305</td>\n",
       "    </tr>\n",
       "    <tr>\n",
       "      <th>2</th>\n",
       "      <td>0.394073</td>\n",
       "      <td>0.935106</td>\n",
       "      <td>-0.015685</td>\n",
       "      <td>0.259596</td>\n",
       "    </tr>\n",
       "    <tr>\n",
       "      <th>3</th>\n",
       "      <td>-1.473314</td>\n",
       "      <td>0.801927</td>\n",
       "      <td>-1.750752</td>\n",
       "      <td>-0.495052</td>\n",
       "    </tr>\n",
       "    <tr>\n",
       "      <th>4</th>\n",
       "      <td>-1.008601</td>\n",
       "      <td>0.025244</td>\n",
       "      <td>-0.121507</td>\n",
       "      <td>-1.546873</td>\n",
       "    </tr>\n",
       "    <tr>\n",
       "      <th>5</th>\n",
       "      <td>-0.606944</td>\n",
       "      <td>-1.393813</td>\n",
       "      <td>-0.627695</td>\n",
       "      <td>0.332632</td>\n",
       "    </tr>\n",
       "    <tr>\n",
       "      <th>6</th>\n",
       "      <td>-1.541367</td>\n",
       "      <td>1.670300</td>\n",
       "      <td>-0.499546</td>\n",
       "      <td>0.673129</td>\n",
       "    </tr>\n",
       "    <tr>\n",
       "      <th>7</th>\n",
       "      <td>2.248090</td>\n",
       "      <td>-1.654263</td>\n",
       "      <td>-0.474397</td>\n",
       "      <td>-0.301915</td>\n",
       "    </tr>\n",
       "    <tr>\n",
       "      <th>8</th>\n",
       "      <td>-0.931026</td>\n",
       "      <td>1.110986</td>\n",
       "      <td>-0.189683</td>\n",
       "      <td>1.278410</td>\n",
       "    </tr>\n",
       "    <tr>\n",
       "      <th>9</th>\n",
       "      <td>-0.554077</td>\n",
       "      <td>0.354303</td>\n",
       "      <td>-0.440276</td>\n",
       "      <td>-0.424449</td>\n",
       "    </tr>\n",
       "  </tbody>\n",
       "</table>\n",
       "</div>"
      ],
      "text/plain": [
       "Year      2000                2010          \n",
       "Text         a         b         a         b\n",
       "0     0.026375  0.260322 -0.395146 -0.204301\n",
       "1    -1.271633 -2.596879  0.289681 -0.873305\n",
       "2     0.394073  0.935106 -0.015685  0.259596\n",
       "3    -1.473314  0.801927 -1.750752 -0.495052\n",
       "4    -1.008601  0.025244 -0.121507 -1.546873\n",
       "5    -0.606944 -1.393813 -0.627695  0.332632\n",
       "6    -1.541367  1.670300 -0.499546  0.673129\n",
       "7     2.248090 -1.654263 -0.474397 -0.301915\n",
       "8    -0.931026  1.110986 -0.189683  1.278410\n",
       "9    -0.554077  0.354303 -0.440276 -0.424449"
      ]
     },
     "execution_count": 61,
     "metadata": {},
     "output_type": "execute_result"
    }
   ],
   "source": [
    "np.random.seed(45)\n",
    "a = pd.DataFrame(index=range(10), \n",
    "                 columns=pd.MultiIndex.from_product(\n",
    "                         iterables=[['2000', '2010'], ['a', 'b']], \n",
    "                         names=['Year', 'Text']), \n",
    "                 data=np.random.randn(10,4))\n",
    "\n",
    "b = a.stack(level=0).reset_index(level=0, drop=True).reset_index()\n",
    "a"
   ]
  },
  {
   "cell_type": "code",
   "execution_count": 62,
   "id": "emotional-stack",
   "metadata": {},
   "outputs": [
    {
     "data": {
      "text/html": [
       "<div>\n",
       "<style scoped>\n",
       "    .dataframe tbody tr th:only-of-type {\n",
       "        vertical-align: middle;\n",
       "    }\n",
       "\n",
       "    .dataframe tbody tr th {\n",
       "        vertical-align: top;\n",
       "    }\n",
       "\n",
       "    .dataframe thead th {\n",
       "        text-align: right;\n",
       "    }\n",
       "</style>\n",
       "<table border=\"1\" class=\"dataframe\">\n",
       "  <thead>\n",
       "    <tr style=\"text-align: right;\">\n",
       "      <th>Text</th>\n",
       "      <th>Year</th>\n",
       "      <th>a</th>\n",
       "      <th>b</th>\n",
       "    </tr>\n",
       "  </thead>\n",
       "  <tbody>\n",
       "    <tr>\n",
       "      <th>0</th>\n",
       "      <td>2000</td>\n",
       "      <td>0.026375</td>\n",
       "      <td>0.260322</td>\n",
       "    </tr>\n",
       "    <tr>\n",
       "      <th>1</th>\n",
       "      <td>2010</td>\n",
       "      <td>-0.395146</td>\n",
       "      <td>-0.204301</td>\n",
       "    </tr>\n",
       "    <tr>\n",
       "      <th>2</th>\n",
       "      <td>2000</td>\n",
       "      <td>-1.271633</td>\n",
       "      <td>-2.596879</td>\n",
       "    </tr>\n",
       "    <tr>\n",
       "      <th>3</th>\n",
       "      <td>2010</td>\n",
       "      <td>0.289681</td>\n",
       "      <td>-0.873305</td>\n",
       "    </tr>\n",
       "    <tr>\n",
       "      <th>4</th>\n",
       "      <td>2000</td>\n",
       "      <td>0.394073</td>\n",
       "      <td>0.935106</td>\n",
       "    </tr>\n",
       "    <tr>\n",
       "      <th>5</th>\n",
       "      <td>2010</td>\n",
       "      <td>-0.015685</td>\n",
       "      <td>0.259596</td>\n",
       "    </tr>\n",
       "    <tr>\n",
       "      <th>6</th>\n",
       "      <td>2000</td>\n",
       "      <td>-1.473314</td>\n",
       "      <td>0.801927</td>\n",
       "    </tr>\n",
       "    <tr>\n",
       "      <th>7</th>\n",
       "      <td>2010</td>\n",
       "      <td>-1.750752</td>\n",
       "      <td>-0.495052</td>\n",
       "    </tr>\n",
       "    <tr>\n",
       "      <th>8</th>\n",
       "      <td>2000</td>\n",
       "      <td>-1.008601</td>\n",
       "      <td>0.025244</td>\n",
       "    </tr>\n",
       "    <tr>\n",
       "      <th>9</th>\n",
       "      <td>2010</td>\n",
       "      <td>-0.121507</td>\n",
       "      <td>-1.546873</td>\n",
       "    </tr>\n",
       "    <tr>\n",
       "      <th>10</th>\n",
       "      <td>2000</td>\n",
       "      <td>-0.606944</td>\n",
       "      <td>-1.393813</td>\n",
       "    </tr>\n",
       "    <tr>\n",
       "      <th>11</th>\n",
       "      <td>2010</td>\n",
       "      <td>-0.627695</td>\n",
       "      <td>0.332632</td>\n",
       "    </tr>\n",
       "    <tr>\n",
       "      <th>12</th>\n",
       "      <td>2000</td>\n",
       "      <td>-1.541367</td>\n",
       "      <td>1.670300</td>\n",
       "    </tr>\n",
       "    <tr>\n",
       "      <th>13</th>\n",
       "      <td>2010</td>\n",
       "      <td>-0.499546</td>\n",
       "      <td>0.673129</td>\n",
       "    </tr>\n",
       "    <tr>\n",
       "      <th>14</th>\n",
       "      <td>2000</td>\n",
       "      <td>2.248090</td>\n",
       "      <td>-1.654263</td>\n",
       "    </tr>\n",
       "    <tr>\n",
       "      <th>15</th>\n",
       "      <td>2010</td>\n",
       "      <td>-0.474397</td>\n",
       "      <td>-0.301915</td>\n",
       "    </tr>\n",
       "    <tr>\n",
       "      <th>16</th>\n",
       "      <td>2000</td>\n",
       "      <td>-0.931026</td>\n",
       "      <td>1.110986</td>\n",
       "    </tr>\n",
       "    <tr>\n",
       "      <th>17</th>\n",
       "      <td>2010</td>\n",
       "      <td>-0.189683</td>\n",
       "      <td>1.278410</td>\n",
       "    </tr>\n",
       "    <tr>\n",
       "      <th>18</th>\n",
       "      <td>2000</td>\n",
       "      <td>-0.554077</td>\n",
       "      <td>0.354303</td>\n",
       "    </tr>\n",
       "    <tr>\n",
       "      <th>19</th>\n",
       "      <td>2010</td>\n",
       "      <td>-0.440276</td>\n",
       "      <td>-0.424449</td>\n",
       "    </tr>\n",
       "  </tbody>\n",
       "</table>\n",
       "</div>"
      ],
      "text/plain": [
       "Text  Year         a         b\n",
       "0     2000  0.026375  0.260322\n",
       "1     2010 -0.395146 -0.204301\n",
       "2     2000 -1.271633 -2.596879\n",
       "3     2010  0.289681 -0.873305\n",
       "4     2000  0.394073  0.935106\n",
       "5     2010 -0.015685  0.259596\n",
       "6     2000 -1.473314  0.801927\n",
       "7     2010 -1.750752 -0.495052\n",
       "8     2000 -1.008601  0.025244\n",
       "9     2010 -0.121507 -1.546873\n",
       "10    2000 -0.606944 -1.393813\n",
       "11    2010 -0.627695  0.332632\n",
       "12    2000 -1.541367  1.670300\n",
       "13    2010 -0.499546  0.673129\n",
       "14    2000  2.248090 -1.654263\n",
       "15    2010 -0.474397 -0.301915\n",
       "16    2000 -0.931026  1.110986\n",
       "17    2010 -0.189683  1.278410\n",
       "18    2000 -0.554077  0.354303\n",
       "19    2010 -0.440276 -0.424449"
      ]
     },
     "execution_count": 62,
     "metadata": {},
     "output_type": "execute_result"
    }
   ],
   "source": [
    "b"
   ]
  },
  {
   "cell_type": "code",
   "execution_count": 10,
   "id": "increased-proof",
   "metadata": {},
   "outputs": [],
   "source": [
    "n = 10**4 # Lots of users\n",
    "_true = 0.3\n",
    "DATASET_III = create_population(n, _true) # Only 1% of users have 1's in their data\n"
   ]
  },
  {
   "cell_type": "code",
   "execution_count": 11,
   "id": "combined-institution",
   "metadata": {},
   "outputs": [
    {
     "name": "stdout",
     "output_type": "stream",
     "text": [
      "10/10"
     ]
    },
    {
     "data": {
      "text/plain": [
       "Text(0.5, 0, 'Epsilon')"
      ]
     },
     "execution_count": 11,
     "metadata": {},
     "output_type": "execute_result"
    },
    {
     "data": {
      "image/png": "[encoded data removed]",
      "text/plain": [
       "<Figure size 1440x432 with 1 Axes>"
      ]
     },
     "metadata": {
      "needs_background": "light"
     },
     "output_type": "display_data"
    }
   ],
   "source": [
    "epsilons = np.linspace(0.1, 0.8, 10)\n",
    "delta = 0.05\n",
    "data = defaultdict(list)\n",
    "true = sum(DATASET_III)/n\n",
    "for i, epsilon in enumerate(epsilons):\n",
    "    sys.stdout.write(\"\\r\")\n",
    "    sys.stdout.write(\"{}/{}\".format(i+1, len(epsilons)))    \n",
    "    \n",
    "    ans = defaultdict(list)\n",
    "#     print('Add binomial')\n",
    "    for _ in range(EPOCHS):    \n",
    "        pred = additive_noise(DATASET_III, epsilon, delta, debug=False, p=None)\n",
    "        ans['binomial'].append(error(true, pred))\n",
    "\n",
    "#     print('\\nSample and Threshold')\n",
    "    for _ in range(EPOCHS):\n",
    "        pred = sampling(DATASET_III, epsilon, delta, debug=False)\n",
    "        ans['sample'].append(error(true, pred))\n",
    "\n",
    "    data[epsilon] = [\n",
    "        np.mean(ans['sample']),\n",
    "        np.std(ans['sample']),\n",
    "        np.mean(ans['binomial']),\n",
    "        np.std(ans['binomial']),        \n",
    "    ]\n",
    "    \n",
    "df = pd.DataFrame(data, index=['sampleM', 'sampleSTD', 'binM', 'binSTD']).T\n",
    "ax = df[['sampleM', 'binM']].plot(figsize=(20,6), fontsize=14)\n",
    "ax.set_title('Error of regimes for dense small datasets k/n={0:.4f}'.format(true), fontsize=17)\n",
    "ax.set_ylabel('Absolute Error (log10 scale)', fontsize=16)\n",
    "ax.set_xlabel('Epsilon', fontsize=16)\n",
    "# ax.set_yscale('log')    "
   ]
  },
  {
   "cell_type": "code",
   "execution_count": 18,
   "id": "nasty-mount",
   "metadata": {},
   "outputs": [
    {
     "data": {
      "text/plain": [
       "-99936"
      ]
     },
     "execution_count": 18,
     "metadata": {},
     "output_type": "execute_result"
    }
   ],
   "source": [
    "2**6 - 10**5\n"
   ]
  },
  {
   "cell_type": "code",
   "execution_count": null,
   "id": "smart-guarantee",
   "metadata": {},
   "outputs": [],
   "source": []
  }
 ],
 "metadata": {
  "kernelspec": {
   "display_name": "Python 3",
   "language": "python",
   "name": "python3"
  },
  "language_info": {
   "codemirror_mode": {
    "name": "ipython",
    "version": 3
   },
   "file_extension": ".py",
   "mimetype": "text/x-python",
   "name": "python",
   "nbconvert_exporter": "python",
   "pygments_lexer": "ipython3",
   "version": "3.9.2"
  }
 },
 "nbformat": 4,
 "nbformat_minor": 5
}
