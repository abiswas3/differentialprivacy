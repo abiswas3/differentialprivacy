{
 "cells": [
  {
   "cell_type": "markdown",
   "metadata": {},
   "source": [
    "# Understanding concentration inequalities "
   ]
  },
  {
   "cell_type": "code",
   "execution_count": 1,
   "metadata": {},
   "outputs": [],
   "source": [
    "%matplotlib inline\n",
    "import numpy as np\n",
    "import pandas as pd\n",
    "import matplotlib.pyplot as plt"
   ]
  },
  {
   "cell_type": "code",
   "execution_count": 9,
   "metadata": {},
   "outputs": [
    {
     "data": {
      "image/png": "[encoded data removed]",
      "text/plain": [
       "<Figure size 1440x432 with 1 Axes>"
      ]
     },
     "metadata": {
      "needs_background": "light"
     },
     "output_type": "display_data"
    }
   ],
   "source": [
    "p = 0.4\n",
    "n = 100\n",
    "delta\n",
    "num_experiments = 50\n",
    "sample_sums = np.random.binomial(n, p, size=num_experiments)\n",
    "sample_means = [x/n for x in sample_sums]\n",
    "    \n",
    "ax = pd.Series(sample_means).plot(kind='hist', \n",
    "                                  figsize=(20,6),\n",
    "                                  fontsize=16,\n",
    "                                  title=\"Distribution of empirical mean\")        \n",
    "        "
   ]
  },
  {
   "cell_type": "code",
   "execution_count": 12,
   "metadata": {},
   "outputs": [
    {
     "data": {
      "text/plain": [
       "0.12238734153404082"
      ]
     },
     "execution_count": 12,
     "metadata": {},
     "output_type": "execute_result"
    }
   ],
   "source": [
    "# Pick a confidence parameter \n",
    "delta = 0.05\n",
    "error_bar = np.sqrt(1/(2*n)*np.log(1/delta))\n",
    "\n",
    "bad_event_count = 0\n",
    "for i, emp_mean in enumerate(sample_means):\n",
    "    if emp_mean - p >= error_bar:\n",
    "        bad_event_count += 1\n",
    "error_bar"
   ]
  },
  {
   "cell_type": "markdown",
   "metadata": {},
   "source": [
    "# Multiplicative bound\n",
    "\n",
    "$$\\mathbb{P}[S_n \\geq (1 + t)\\mu] \\leq e^{-\\frac{t^2\\mu}{2 + \\delta}}$$\n",
    "\n",
    "For $t \\geq 0$, it's saying that the likelihood of the sum being more than $1+t$ times the mean drops exponentially. If we re-write this in terms of the number of samples of we add then:"
   ]
  },
  {
   "cell_type": "code",
   "execution_count": null,
   "metadata": {},
   "outputs": [],
   "source": []
  },
  {
   "cell_type": "code",
   "execution_count": null,
   "metadata": {},
   "outputs": [],
   "source": []
  },
  {
   "cell_type": "code",
   "execution_count": null,
   "metadata": {},
   "outputs": [],
   "source": []
  }
 ],
 "metadata": {
  "kernelspec": {
   "display_name": "Python 3",
   "language": "python",
   "name": "python3"
  },
  "language_info": {
   "codemirror_mode": {
    "name": "ipython",
    "version": 3
   },
   "file_extension": ".py",
   "mimetype": "text/x-python",
   "name": "python",
   "nbconvert_exporter": "python",
   "pygments_lexer": "ipython3",
   "version": "3.7.3"
  }
 },
 "nbformat": 4,
 "nbformat_minor": 2
}
