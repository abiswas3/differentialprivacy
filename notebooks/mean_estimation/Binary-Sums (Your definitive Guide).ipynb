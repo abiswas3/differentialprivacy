{
 "cells": [
  {
   "cell_type": "code",
   "execution_count": 83,
   "id": "tutorial-finland",
   "metadata": {},
   "outputs": [
    {
     "data": {
      "image/png": "[encoded data removed]",
      "text/plain": [
       "<Figure size 432x288 with 1 Axes>"
      ]
     },
     "metadata": {
      "needs_background": "light"
     },
     "output_type": "display_data"
    }
   ],
   "source": [
    "%matplotlib inline\n",
    "import sys\n",
    "import numpy as np\n",
    "import pandas as pd\n",
    "import matplotlib.pyplot as plt\n",
    "import seaborn as sns\n",
    "from collections import defaultdict, Counter\n",
    "from matplotlib.ticker import FormatStrFormatter\n",
    "from matplotlib.ticker import StrMethodFormatter\n",
    "# plt.gca().yaxis.set_major_formatter(StrMethodFormatter('{x:,.0f}')) # No decimal places\n"
   ]
  },
  {
   "cell_type": "code",
   "execution_count": 2,
   "id": "recreational-today",
   "metadata": {},
   "outputs": [],
   "source": [
    "# Population Statistics\n",
    "def create_population(num_people, positive_fraction):\n",
    "    \n",
    "    assert positive_fraction <= 1 and positive_fraction >=0 \n",
    "    return [1 if np.random.random() <= positive_fraction else 0 for i in range(num_people)]\n",
    "\n",
    "def error(true, pred):\n",
    "    return abs(true - pred)"
   ]
  },
  {
   "cell_type": "code",
   "execution_count": 19,
   "id": "falling-subsection",
   "metadata": {},
   "outputs": [],
   "source": [
    "def additive_noise(population, \n",
    "                   epsilon, \n",
    "                   delta, \n",
    "                   debug=False, \n",
    "                   p=None):\n",
    "    \n",
    "    n = len(population)\n",
    "    if n < 100/(epsilon**2)*np.log(2/delta):\n",
    "        if debug:\n",
    "            print(\"Cannot guarantee privacy: n < {}\".format(100/(epsilon**2)*np.log(2/delta)))\n",
    "        return np.NAN\n",
    "    \n",
    "    answer = []\n",
    "    if not p:\n",
    "        p = 1 - 50*np.log(2/delta)/(epsilon**2*n) # \n",
    "       \n",
    "    \n",
    "    if debug:\n",
    "        print(\"p: {}\".format(p))    \n",
    "    \n",
    "    # FAST\n",
    "    return sum(population)/n + np.random.binomial(n,p)/n - p\n",
    "\n",
    "def sampling(population, epsilon, delta, debug=False):\n",
    "    \n",
    "    answer = []\n",
    "    n = len(population)\n",
    "    tau = 3 + np.log(1/delta)\n",
    "    m = int(np.floor(epsilon*n/tau))\n",
    "    if m <= 0 or m >=n:\n",
    "        return -1\n",
    "    \n",
    "    p = m/n\n",
    "    if debug:\n",
    "        print(\"true fraction: {}\".format(sum(population)/n))\n",
    "        print(\"n: {} m: {} tau:{} ({}) p:{}\".format(n, m, tau, tau/n, p))\n",
    "\n",
    "    num_to_sample = np.random.binomial(n, p)\n",
    "    answer = np.random.choice(population, size=num_to_sample)\n",
    "    \n",
    "    if debug:\n",
    "        print('Pre-thresholding: {}'.format(sum(answer)/len(answer)))\n",
    "    if sum(answer) < tau:\n",
    "        return 0\n",
    "    else:\n",
    "        return sum(answer)/len(answer)"
   ]
  },
  {
   "cell_type": "code",
   "execution_count": 4,
   "id": "gross-subcommittee",
   "metadata": {},
   "outputs": [],
   "source": [
    "n = 10**5 # Lots of users\n",
    "_true = 0.01\n",
    "DATASET_I = create_population(n, _true) # Only 1% of users have 1's in their data\n",
    "true = sum(DATASET_I)/n"
   ]
  },
  {
   "cell_type": "code",
   "execution_count": 20,
   "id": "happy-summit",
   "metadata": {},
   "outputs": [
    {
     "name": "stdout",
     "output_type": "stream",
     "text": [
      "Add binomial\n",
      "20/20\n",
      "Sample and Threshold\n",
      "20/20"
     ]
    }
   ],
   "source": [
    "epsilon = 0.1 # Small ish epsilon but large enough to fit in big sample regime.\n",
    "delta = 0.05 # Well understood 95% confidence interval.\n",
    "EPOCHS = 20\n",
    "ans = defaultdict(list)\n",
    "\n",
    "print('Add binomial')\n",
    "for i in range(EPOCHS):    \n",
    "    sys.stdout.write(\"\\r\")\n",
    "    sys.stdout.write(\"{}/{}\".format(i+1, EPOCHS))    \n",
    "    pred = additive_noise(DATASET_I, epsilon, delta, debug=False, p=None)\n",
    "    ans['binomial'].append(error(true, pred))\n",
    "\n",
    "print('\\nSample and Threshold')\n",
    "for i in range(EPOCHS):\n",
    "    sys.stdout.write(\"\\r\")\n",
    "    sys.stdout.write(\"{}/{}\".format(i+1, EPOCHS))    \n",
    "    pred = sampling(DATASET_I, epsilon, delta, debug=False)\n",
    "    ans['sample'].append(error(true, pred))\n",
    "    "
   ]
  },
  {
   "cell_type": "code",
   "execution_count": 6,
   "id": "strategic-librarian",
   "metadata": {},
   "outputs": [
    {
     "data": {
      "text/plain": [
       "binomial    3.137448\n",
       "sample      2.785614\n",
       "dtype: float64"
      ]
     },
     "execution_count": 6,
     "metadata": {},
     "output_type": "execute_result"
    }
   ],
   "source": [
    "-np.log10(pd.DataFrame(ans).mean())"
   ]
  },
  {
   "cell_type": "code",
   "execution_count": 128,
   "id": "armed-majority",
   "metadata": {},
   "outputs": [
    {
     "name": "stdout",
     "output_type": "stream",
     "text": [
      "5/5"
     ]
    },
    {
     "data": {
      "text/plain": [
       "Text(0, 0.5, 'ERROR')"
      ]
     },
     "execution_count": 128,
     "metadata": {},
     "output_type": "execute_result"
    },
    {
     "data": {
      "image/png": "[encoded data removed]",
      "text/plain": [
       "<Figure size 1440x432 with 2 Axes>"
      ]
     },
     "metadata": {
      "needs_background": "light"
     },
     "output_type": "display_data"
    }
   ],
   "source": [
    "epsilons = np.linspace(0.01, 0.8, 5)\n",
    "delta = 0.05\n",
    "data = defaultdict(list)\n",
    "true = sum(DATASET_I)/n\n",
    "for i, epsilon in enumerate(epsilons):\n",
    "    sys.stdout.write(\"\\r\")\n",
    "    sys.stdout.write(\"{}/{}\".format(i+1, len(epsilons)))    \n",
    "    \n",
    "    ans = defaultdict(list)\n",
    "#     print('Add binomial')\n",
    "    for _ in range(EPOCHS):    \n",
    "        pred = additive_noise(DATASET_I, epsilon, delta, debug=False, p=None)\n",
    "        ans['binomial'].append(error(true, pred))\n",
    "\n",
    "#     print('\\nSample and Threshold')\n",
    "    for _ in range(EPOCHS):\n",
    "        pred = sampling(DATASET_I, epsilon, delta, debug=False)\n",
    "        ans['sample'].append(error(true, pred))\n",
    "\n",
    "    data[epsilon] = {'sample': ans['sample'], 'binomial': ans['binomial']}\n",
    "    \n",
    "# df = pd.DataFrame(data, index=['sampleM', 'sampleSTD', 'binM', 'binSTD']).T\n",
    "# ax = df[['sampleM', 'binM']].plot(figsize=(20,6), fontsize=14)\n",
    "# ax.set_title('Error of regimes for dense large datasets k/n={0:.4f}'.format(true), fontsize=17)\n",
    "# ax.set_ylabel('Absolute Error (log10 scale)', fontsize=16)\n",
    "# ax.set_xlabel('Epsilon', fontsize=16)\n",
    "# ax.set_yscale('log')    \n",
    "# pd.DataFrame.from_dict(data, orient='index')\n",
    "tupes = []\n",
    "for k_ep in data:\n",
    "    for alg in ['sample', 'binomial']:\n",
    "        tupes.append((alg, k_ep))\n",
    "        temp = data[k_ep][alg]\n",
    "        \n",
    "\n",
    "array = [data[i][j] for j,i in tupes]\n",
    "tupes = [(i, \"{0:.2f}\".format(float(j))) for i, j in tupes]\n",
    "index = pd.MultiIndex.from_tuples(tupes, \n",
    "                                  names=[\"alg\",\"epsilon\"]) \n",
    "df = pd.DataFrame(array, index=index).T\n",
    "\n",
    "df1 = df.stack(level=1).reset_index(level=0, drop=True).reset_index()\n",
    "axes = df1.boxplot(by='epsilon', figsize=(20,6), grid=False);\n",
    "df;\n",
    "axes[0].set_ylabel('ERROR')"
   ]
  },
  {
   "cell_type": "code",
   "execution_count": 130,
   "id": "narrative-sport",
   "metadata": {},
   "outputs": [],
   "source": [
    "n = 10**4 # Lots of users\n",
    "_true = 0.92 # Lots of people\n",
    "DATASET_II = create_population(n, _true) # Only 1% of users have 1's in their data\n"
   ]
  },
  {
   "cell_type": "code",
   "execution_count": 132,
   "id": "romantic-livestock",
   "metadata": {},
   "outputs": [
    {
     "name": "stdout",
     "output_type": "stream",
     "text": [
      "\r",
      "1/5\r",
      "2/5\r",
      "3/5\r",
      "4/5\r",
      "5/5"
     ]
    },
    {
     "data": {
      "text/plain": [
       "Text(0, 0.5, 'ERROR')"
      ]
     },
     "execution_count": 132,
     "metadata": {},
     "output_type": "execute_result"
    },
    {
     "data": {
      "image/png": "[encoded data removed]",
      "text/plain": [
       "<Figure size 1440x432 with 2 Axes>"
      ]
     },
     "metadata": {
      "needs_background": "light"
     },
     "output_type": "display_data"
    }
   ],
   "source": [
    "epsilons = np.linspace(0.01, 1, 5)\n",
    "delta = 0.05\n",
    "data = defaultdict(list)\n",
    "true = sum(DATASET_II)/n\n",
    "for i, epsilon in enumerate(epsilons):\n",
    "    sys.stdout.write(\"\\r\")\n",
    "    sys.stdout.write(\"{}/{}\".format(i+1, len(epsilons)))    \n",
    "    \n",
    "    ans = defaultdict(list)\n",
    "#     print('Add binomial')\n",
    "    for _ in range(EPOCHS):    \n",
    "        pred = additive_noise(DATASET_II, epsilon, delta, debug=False, p=None)\n",
    "        ans['binomial'].append(error(true, pred))\n",
    "\n",
    "#     print('\\nSample and Threshold')\n",
    "    for _ in range(EPOCHS):\n",
    "        pred = sampling(DATASET_II, epsilon, delta, debug=False)\n",
    "        ans['sample'].append(error(true, pred))\n",
    "\n",
    "    data[epsilon] = {'sample': ans['sample'], 'binomial': ans['binomial']}\n",
    "    \n",
    "# df = pd.DataFrame(data, index=['sampleM', 'sampleSTD', 'binM', 'binSTD']).T\n",
    "# ax = df[['sampleM', 'binM']].plot(figsize=(20,6), fontsize=14)\n",
    "# ax.set_title('Error of regimes for dense large datasets k/n={0:.4f}'.format(true), fontsize=17)\n",
    "# ax.set_ylabel('Absolute Error (log10 scale)', fontsize=16)\n",
    "# ax.set_xlabel('Epsilon', fontsize=16)\n",
    "# ax.set_yscale('log')    \n",
    "# pd.DataFrame.from_dict(data, orient='index')\n",
    "tupes = []\n",
    "for k_ep in data:\n",
    "    for alg in ['sample', 'binomial']:\n",
    "        tupes.append((alg, k_ep))\n",
    "        temp = data[k_ep][alg]\n",
    "        \n",
    "\n",
    "array = [data[i][j] for j,i in tupes]\n",
    "tupes = [(i, \"{0:.2f}\".format(float(j))) for i, j in tupes]\n",
    "index = pd.MultiIndex.from_tuples(tupes, \n",
    "                                  names=[\"alg\",\"epsilon\"]) \n",
    "df = pd.DataFrame(array, index=index).T\n",
    "\n",
    "df1 = df.stack(level=1).reset_index(level=0, drop=True).reset_index()\n",
    "axes = df1.boxplot(by='epsilon', figsize=(20,6), grid=False);\n",
    "df;\n",
    "axes[0].set_ylabel('ERROR')"
   ]
  },
  {
   "cell_type": "code",
   "execution_count": 10,
   "id": "adverse-referral",
   "metadata": {},
   "outputs": [],
   "source": [
    "n = 10**4 # Lots of users\n",
    "_true = 0.3\n",
    "DATASET_III = create_population(n, _true) # Only 1% of users have 1's in their data\n"
   ]
  },
  {
   "cell_type": "code",
   "execution_count": 125,
   "id": "indie-treasure",
   "metadata": {},
   "outputs": [
    {
     "name": "stdout",
     "output_type": "stream",
     "text": [
      "\r",
      "1/5\r",
      "2/5\r",
      "3/5\r",
      "4/5\r",
      "5/5"
     ]
    },
    {
     "data": {
      "text/plain": [
       "Text(0, 0.5, 'ERROR')"
      ]
     },
     "execution_count": 125,
     "metadata": {},
     "output_type": "execute_result"
    },
    {
     "data": {
      "image/png": "[encoded data removed]",
      "text/plain": [
       "<Figure size 1440x432 with 2 Axes>"
      ]
     },
     "metadata": {
      "needs_background": "light"
     },
     "output_type": "display_data"
    }
   ],
   "source": [
    "epsilons = np.linspace(0.01, 0.8, 5)\n",
    "delta = 0.05\n",
    "data = defaultdict(list)\n",
    "true = sum(DATASET_III)/n\n",
    "for i, epsilon in enumerate(epsilons):\n",
    "    sys.stdout.write(\"\\r\")\n",
    "    sys.stdout.write(\"{}/{}\".format(i+1, len(epsilons)))    \n",
    "    \n",
    "    ans = defaultdict(list)\n",
    "#     print('Add binomial')\n",
    "    for _ in range(EPOCHS):    \n",
    "        pred = additive_noise(DATASET_III, epsilon, delta, debug=False, p=None)\n",
    "        ans['binomial'].append(error(true, pred))\n",
    "\n",
    "#     print('\\nSample and Threshold')\n",
    "    for _ in range(EPOCHS):\n",
    "        pred = sampling(DATASET_III, epsilon, delta, debug=False)\n",
    "        ans['sample'].append(error(true, pred))\n",
    "\n",
    "    data[epsilon] = {'sample': ans['sample'], 'binomial': ans['binomial']}\n",
    "    \n",
    "# df = pd.DataFrame(data, index=['sampleM', 'sampleSTD', 'binM', 'binSTD']).T\n",
    "# ax = df[['sampleM', 'binM']].plot(figsize=(20,6), fontsize=14)\n",
    "# ax.set_title('Error of regimes for dense large datasets k/n={0:.4f}'.format(true), fontsize=17)\n",
    "# ax.set_ylabel('Absolute Error (log10 scale)', fontsize=16)\n",
    "# ax.set_xlabel('Epsilon', fontsize=16)\n",
    "# ax.set_yscale('log')    \n",
    "# pd.DataFrame.from_dict(data, orient='index')\n",
    "tupes = []\n",
    "for k_ep in data:\n",
    "    for alg in ['sample', 'binomial']:\n",
    "        tupes.append((alg, k_ep))\n",
    "        temp = data[k_ep][alg]\n",
    "        \n",
    "\n",
    "array = [data[i][j] for j,i in tupes]\n",
    "tupes = [(i, \"{0:.2f}\".format(float(j))) for i, j in tupes]\n",
    "index = pd.MultiIndex.from_tuples(tupes, \n",
    "                                  names=[\"alg\",\"epsilon\"]) \n",
    "df = pd.DataFrame(array, index=index).T\n",
    "\n",
    "df1 = df.stack(level=1).reset_index(level=0, drop=True).reset_index()\n",
    "axes = df1.boxplot(by='epsilon', figsize=(20,6), grid=False);\n",
    "df;\n",
    "axes[0].set_ylabel('ERROR')"
   ]
  },
  {
   "cell_type": "code",
   "execution_count": 18,
   "id": "liable-confidentiality",
   "metadata": {},
   "outputs": [
    {
     "data": {
      "text/plain": [
       "-99936"
      ]
     },
     "execution_count": 18,
     "metadata": {},
     "output_type": "execute_result"
    }
   ],
   "source": [
    "2**6 - 10**5\n"
   ]
  },
  {
   "cell_type": "code",
   "execution_count": null,
   "id": "palestinian-vinyl",
   "metadata": {},
   "outputs": [],
   "source": []
  }
 ],
 "metadata": {
  "kernelspec": {
   "display_name": "Python 3",
   "language": "python",
   "name": "python3"
  },
  "language_info": {
   "codemirror_mode": {
    "name": "ipython",
    "version": 3
   },
   "file_extension": ".py",
   "mimetype": "text/x-python",
   "name": "python",
   "nbconvert_exporter": "python",
   "pygments_lexer": "ipython3",
   "version": "3.9.2"
  }
 },
 "nbformat": 4,
 "nbformat_minor": 5
}
