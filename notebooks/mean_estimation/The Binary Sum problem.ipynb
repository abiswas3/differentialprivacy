{
 "cells": [
  {
   "cell_type": "code",
   "execution_count": 1,
   "id": "ordered-possession",
   "metadata": {},
   "outputs": [],
   "source": [
    "%matplotlib inline\n",
    "import numpy as np\n",
    "import pandas as pd\n",
    "from collections import Counter, defaultdict\n",
    "import sys\n",
    "import seaborn as sns"
   ]
  },
  {
   "cell_type": "code",
   "execution_count": 2,
   "id": "retired-velvet",
   "metadata": {},
   "outputs": [],
   "source": [
    "# Randomised Response\n",
    "# Sampling \n",
    "# Binomial Noise\n",
    "\n",
    "# Population Statistics\n",
    "def create_population(num_people, positive_fraction):\n",
    "    \n",
    "    assert positive_fraction <= 1 and positive_fraction >=0 \n",
    "    return [1 if np.random.random() <= positive_fraction else 0 for i in range(num_people)]\n",
    "\n",
    "def error(true, pred):\n",
    "    return abs(true - pred)"
   ]
  },
  {
   "cell_type": "code",
   "execution_count": 3,
   "id": "coupled-portfolio",
   "metadata": {},
   "outputs": [],
   "source": [
    "def additive_noise(population, \n",
    "                   epsilon, \n",
    "                   delta, \n",
    "                   debug=False, \n",
    "                   p=None):\n",
    "    \n",
    "    n = len(population)\n",
    "    if n < 100/(epsilon**2)*np.log(2/delta):\n",
    "        if debug:\n",
    "            print(\"Cannot guarantee privacy: n < {}\".format(100/(epsilon**2)*np.log(2/delta)))\n",
    "        return 1 # full error\n",
    "    \n",
    "    answer = []\n",
    "    if not p:\n",
    "        p = 1 - 50*np.log(2/delta)/(epsilon**2*n) # \n",
    "        \n",
    "    if debug:\n",
    "        print(\"p: {}\".format(p))    \n",
    "        \n",
    "    for i in range(n):\n",
    "        if np.random.random() <= p: \n",
    "            answer.append(population[i] + 1)\n",
    "        else:\n",
    "            answer.append(population[i])\n",
    "            \n",
    "    if debug:\n",
    "        print(\"True: \", sum(population)/n,\n",
    "              'Deviation from p: ', p - (sum(answer)/n - sum(population)/n))\n",
    "    \n",
    "    return sum(answer)/n - p\n"
   ]
  },
  {
   "cell_type": "code",
   "execution_count": 4,
   "id": "atomic-saturn",
   "metadata": {},
   "outputs": [],
   "source": [
    "def sampling(population, epsilon, delta, debug=False):\n",
    "    \n",
    "    answer = []\n",
    "    n = len(population)\n",
    "    tau = 3 + np.log(1/delta)\n",
    "    m = int(np.floor(epsilon*n/tau))\n",
    "    if m <= 0 or m >=n:\n",
    "        return -1\n",
    "    \n",
    "    p = m/n\n",
    "    if debug:\n",
    "        print(\"true fraction: {}\".format(sum(population)/n))\n",
    "        print(\"n: {} m: {} tau:{} ({}) p:{}\".format(n, m, tau, tau/n, p))\n",
    "\n",
    "    num_to_sample = np.random.binomial(n, p)\n",
    "    if debug:\n",
    "        print('Number of samples ', num_to_sample)\n",
    "        \n",
    "    answer = np.random.choice(population, size=num_to_sample)\n",
    "    \n",
    "    if debug:\n",
    "        print('Pre-thresholding: {}'.format(sum(answer)/len(answer)))\n",
    "    if sum(answer) < tau:\n",
    "        return 0\n",
    "    else:\n",
    "        if debug:\n",
    "            print('ERROR', error(sum(population)/n, sum(answer)/len(answer)))\n",
    "        return sum(answer)/len(answer)"
   ]
  },
  {
   "cell_type": "code",
   "execution_count": 7,
   "id": "loaded-genetics",
   "metadata": {},
   "outputs": [],
   "source": [
    "def randomised_response_cheu(population, epsilon, delta, debug=False):\n",
    "    \n",
    "    # TODO!\n",
    "    pass"
   ]
  },
  {
   "cell_type": "code",
   "execution_count": 11,
   "id": "matched-joseph",
   "metadata": {},
   "outputs": [
    {
     "name": "stdout",
     "output_type": "stream",
     "text": [
      "0.1988\n"
     ]
    }
   ],
   "source": [
    "n = 10**4 # Medium sized data\n",
    "_true = 0.2\n",
    "DATASET_I = create_population(n, _true) # Only 1% of users have 1's in their data\n",
    "true = sum(DATASET_I)/n\n",
    "print(true)"
   ]
  },
  {
   "cell_type": "code",
   "execution_count": 9,
   "id": "young-chemistry",
   "metadata": {},
   "outputs": [
    {
     "name": "stdout",
     "output_type": "stream",
     "text": [
      "5/5"
     ]
    }
   ],
   "source": [
    "epsilons = np.linspace(0.01, 0.8, 5)\n",
    "delta = 0.05\n",
    "data = defaultdict(list)\n",
    "true = sum(DATASET_I)/n\n",
    "EPOCHS = 20 # Number of times to repeat experiments\n",
    "for i, epsilon in enumerate(epsilons):\n",
    "    sys.stdout.write(\"\\r\")\n",
    "    sys.stdout.write(\"{}/{}\".format(i+1, len(epsilons)))    \n",
    "    \n",
    "    ans = defaultdict(list)\n",
    "#     print('Add binomial')\n",
    "    for _ in range(EPOCHS):    \n",
    "        pred = additive_noise(DATASET_I, epsilon, delta, debug=False, p=None)\n",
    "        ans['binomial'].append(error(true, pred))\n",
    "\n",
    "#     print('\\nSample and Threshold')\n",
    "    for _ in range(EPOCHS):\n",
    "        pred = sampling(DATASET_I, epsilon, delta, debug=False)\n",
    "        ans['sample'].append(error(true, pred))\n",
    "\n",
    "    data[epsilon] = {'sample': ans['sample'], \n",
    "                     'binomial': ans['binomial']}"
   ]
  },
  {
   "cell_type": "code",
   "execution_count": 10,
   "id": "thermal-olive",
   "metadata": {},
   "outputs": [
    {
     "data": {
      "image/png": "[encoded data removed]",
      "text/plain": [
       "<Figure size 1440x432 with 2 Axes>"
      ]
     },
     "metadata": {
      "needs_background": "light"
     },
     "output_type": "display_data"
    }
   ],
   "source": [
    "tupes = []\n",
    "for k_ep in data:\n",
    "    for alg in ['sample', 'binomial']:\n",
    "        tupes.append((alg, k_ep))\n",
    "        temp = data[k_ep][alg]\n",
    "        \n",
    "\n",
    "array = [data[i][j] for j,i in tupes]\n",
    "tupes = [(i, \"{0:.2f}\".format(float(j))) for i, j in tupes]\n",
    "index = pd.MultiIndex.from_tuples(tupes, \n",
    "                                  names=[\"alg\",\"epsilon\"]) \n",
    "df = pd.DataFrame(array, index=index).T\n",
    "\n",
    "df1 = df.stack(level=1).reset_index(level=0, drop=True).reset_index()\n",
    "axes = df1.boxplot(by='epsilon', figsize=(20,6), grid=False);\n",
    "df;\n",
    "axes[0].set_ylabel('ERROR')\n",
    "axes[0].set_yscale('log')"
   ]
  },
  {
   "cell_type": "code",
   "execution_count": null,
   "id": "closing-uzbekistan",
   "metadata": {},
   "outputs": [],
   "source": []
  }
 ],
 "metadata": {
  "kernelspec": {
   "display_name": "Python 3",
   "language": "python",
   "name": "python3"
  },
  "language_info": {
   "codemirror_mode": {
    "name": "ipython",
    "version": 3
   },
   "file_extension": ".py",
   "mimetype": "text/x-python",
   "name": "python",
   "nbconvert_exporter": "python",
   "pygments_lexer": "ipython3",
   "version": "3.9.2"
  }
 },
 "nbformat": 4,
 "nbformat_minor": 5
}
